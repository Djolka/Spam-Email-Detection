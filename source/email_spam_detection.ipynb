{
  "cells": [
    {
      "cell_type": "code",
      "execution_count": null,
      "id": "06e9e74c",
      "metadata": {
        "id": "06e9e74c"
      },
      "outputs": [],
      "source": [
        "import numpy as np\n",
        "import pandas as pd"
      ]
    },
    {
      "cell_type": "markdown",
      "id": "1400aef6",
      "metadata": {
        "id": "1400aef6"
      },
      "source": [
        "# Load dataset"
      ]
    },
    {
      "cell_type": "code",
      "execution_count": null,
      "id": "820a38e3",
      "metadata": {
        "id": "820a38e3"
      },
      "outputs": [],
      "source": [
        "df = pd.read_csv('../dataset/emails.csv')\n",
        "df"
      ]
    },
    {
      "cell_type": "code",
      "execution_count": null,
      "id": "0c40f26f",
      "metadata": {
        "id": "0c40f26f"
      },
      "outputs": [],
      "source": [
        "df.shape"
      ]
    },
    {
      "cell_type": "code",
      "execution_count": null,
      "id": "6507b1ac",
      "metadata": {
        "id": "6507b1ac"
      },
      "outputs": [],
      "source": [
        "df.columns"
      ]
    },
    {
      "cell_type": "markdown",
      "id": "8b7321a1",
      "metadata": {
        "id": "8b7321a1"
      },
      "source": [
        "# Preprocessing data"
      ]
    },
    {
      "cell_type": "code",
      "execution_count": null,
      "id": "1c588688",
      "metadata": {
        "id": "1c588688"
      },
      "outputs": [],
      "source": [
        "df.drop_duplicates(inplace=True)"
      ]
    },
    {
      "cell_type": "code",
      "execution_count": null,
      "id": "a1aa3621",
      "metadata": {
        "id": "a1aa3621"
      },
      "outputs": [],
      "source": [
        "df.isnull().sum()"
      ]
    },
    {
      "cell_type": "code",
      "execution_count": null,
      "id": "351b1b20",
      "metadata": {
        "scrolled": true,
        "id": "351b1b20"
      },
      "outputs": [],
      "source": [
        "X = df['text']\n",
        "X"
      ]
    },
    {
      "cell_type": "code",
      "execution_count": null,
      "id": "60c986aa",
      "metadata": {
        "id": "60c986aa"
      },
      "outputs": [],
      "source": [
        "y = df['spam']\n",
        "y"
      ]
    },
    {
      "cell_type": "markdown",
      "id": "680198fb",
      "metadata": {
        "id": "680198fb"
      },
      "source": [
        " -------------------------------------------------------"
      ]
    },
    {
      "cell_type": "markdown",
      "id": "9ac74f61",
      "metadata": {
        "id": "9ac74f61"
      },
      "source": [
        "# CountVectorizer"
      ]
    },
    {
      "cell_type": "code",
      "execution_count": null,
      "id": "cdc7c26e",
      "metadata": {
        "id": "cdc7c26e"
      },
      "outputs": [],
      "source": [
        "# from sklearn.feature_extraction.text import CountVectorizer"
      ]
    },
    {
      "cell_type": "code",
      "execution_count": null,
      "id": "25147f2f",
      "metadata": {
        "id": "25147f2f"
      },
      "outputs": [],
      "source": [
        "# cv = CountVectorizer()"
      ]
    },
    {
      "cell_type": "code",
      "execution_count": null,
      "id": "5bd7abcd",
      "metadata": {
        "id": "5bd7abcd"
      },
      "outputs": [],
      "source": [
        "# X = cv.fit_transform(X)"
      ]
    },
    {
      "cell_type": "code",
      "execution_count": null,
      "id": "d48e2cc9",
      "metadata": {
        "id": "d48e2cc9"
      },
      "outputs": [],
      "source": [
        "# cv.get_feature_names_out()"
      ]
    },
    {
      "cell_type": "code",
      "execution_count": null,
      "id": "72d67ff9",
      "metadata": {
        "id": "72d67ff9"
      },
      "outputs": [],
      "source": [
        "# my_df = pd.DataFrame(data=X.toarray(), columns=cv.get_feature_names_out())"
      ]
    },
    {
      "cell_type": "code",
      "execution_count": null,
      "id": "3e4537f8",
      "metadata": {
        "id": "3e4537f8"
      },
      "outputs": [],
      "source": [
        "# my_df['isSpam'] = y.tolist()"
      ]
    },
    {
      "cell_type": "code",
      "execution_count": null,
      "id": "0a0bef79",
      "metadata": {
        "id": "0a0bef79"
      },
      "outputs": [],
      "source": [
        "# my_df"
      ]
    },
    {
      "cell_type": "code",
      "execution_count": null,
      "id": "49bcfda7",
      "metadata": {
        "id": "49bcfda7"
      },
      "outputs": [],
      "source": [
        "# X = pd.DataFrame(X.toarray()) # konverzija u DataFrame"
      ]
    },
    {
      "cell_type": "markdown",
      "id": "54a6a4da",
      "metadata": {
        "id": "54a6a4da"
      },
      "source": [
        "--------------------------------------------------------------"
      ]
    },
    {
      "cell_type": "markdown",
      "id": "5f9ec5f3",
      "metadata": {
        "id": "5f9ec5f3"
      },
      "source": [
        "# TF-IDF matrix"
      ]
    },
    {
      "cell_type": "code",
      "execution_count": null,
      "id": "72e50c8b",
      "metadata": {
        "id": "72e50c8b"
      },
      "outputs": [],
      "source": [
        "from sklearn.feature_extraction.text import TfidfVectorizer"
      ]
    },
    {
      "cell_type": "code",
      "execution_count": null,
      "id": "1580eec7",
      "metadata": {
        "id": "1580eec7"
      },
      "outputs": [],
      "source": [
        "tf = TfidfVectorizer(max_df=0.8) # ignore terms that appear in more than 80% of the documents"
      ]
    },
    {
      "cell_type": "code",
      "execution_count": null,
      "id": "9ccd7f45",
      "metadata": {
        "id": "9ccd7f45"
      },
      "outputs": [],
      "source": [
        "X = tf.fit_transform(X)"
      ]
    },
    {
      "cell_type": "code",
      "execution_count": null,
      "id": "4d3c6314",
      "metadata": {
        "id": "4d3c6314"
      },
      "outputs": [],
      "source": [
        "tf.get_feature_names_out()"
      ]
    },
    {
      "cell_type": "code",
      "execution_count": null,
      "id": "2a345a55",
      "metadata": {
        "id": "2a345a55"
      },
      "outputs": [],
      "source": [
        "my_df = pd.DataFrame(data=X.toarray(), columns = tf.get_feature_names_out())"
      ]
    },
    {
      "cell_type": "code",
      "execution_count": null,
      "id": "d089e5e4",
      "metadata": {
        "id": "d089e5e4"
      },
      "outputs": [],
      "source": [
        "my_df['isSpam'] = y.tolist()"
      ]
    },
    {
      "cell_type": "code",
      "execution_count": null,
      "id": "382497b1",
      "metadata": {
        "id": "382497b1"
      },
      "outputs": [],
      "source": [
        "my_df.columns"
      ]
    },
    {
      "cell_type": "code",
      "execution_count": null,
      "id": "7f8deb77",
      "metadata": {
        "id": "7f8deb77"
      },
      "outputs": [],
      "source": [
        "my_df"
      ]
    },
    {
      "cell_type": "code",
      "execution_count": null,
      "id": "a7aa6392",
      "metadata": {
        "id": "a7aa6392"
      },
      "outputs": [],
      "source": []
    },
    {
      "cell_type": "code",
      "execution_count": null,
      "id": "491e1f66",
      "metadata": {
        "id": "491e1f66"
      },
      "outputs": [],
      "source": [
        "X = pd.DataFrame(X.toarray())"
      ]
    },
    {
      "cell_type": "markdown",
      "id": "9004fcf4",
      "metadata": {
        "id": "9004fcf4"
      },
      "source": [
        "----------------------------------------------"
      ]
    },
    {
      "cell_type": "code",
      "execution_count": null,
      "id": "0ff497e3",
      "metadata": {
        "id": "0ff497e3"
      },
      "outputs": [],
      "source": [
        "import gensim\n",
        "\n",
        "df['clean message'] = X.apply(lambda x: gensim.utils.simple_preprocess(x))\n",
        "df.head()"
      ]
    },
    {
      "cell_type": "markdown",
      "id": "ddf347ba",
      "metadata": {
        "id": "ddf347ba"
      },
      "source": [
        "-------------------------------------------------------"
      ]
    },
    {
      "cell_type": "markdown",
      "id": "b0a499a1",
      "metadata": {
        "id": "b0a499a1"
      },
      "source": [
        "# Train test split"
      ]
    },
    {
      "cell_type": "code",
      "execution_count": null,
      "id": "b3b52eac",
      "metadata": {
        "id": "b3b52eac"
      },
      "outputs": [],
      "source": [
        "from sklearn.model_selection import train_test_split"
      ]
    },
    {
      "cell_type": "code",
      "execution_count": null,
      "id": "d80060b9",
      "metadata": {
        "id": "d80060b9"
      },
      "outputs": [],
      "source": [
        "X_train, X_test, y_train, y_test = train_test_split(df['clean message'], y, test_size=0.2, random_state=42, stratify=y)"
      ]
    },
    {
      "cell_type": "code",
      "execution_count": null,
      "id": "14a6a5a9",
      "metadata": {
        "id": "14a6a5a9"
      },
      "outputs": [],
      "source": [
        "X_train.shape"
      ]
    },
    {
      "cell_type": "code",
      "execution_count": null,
      "id": "30bc0642",
      "metadata": {
        "scrolled": true,
        "id": "30bc0642"
      },
      "outputs": [],
      "source": [
        "X_test.shape"
      ]
    },
    {
      "cell_type": "markdown",
      "id": "42e51ab7",
      "metadata": {
        "id": "42e51ab7"
      },
      "source": [
        "# Word2vector"
      ]
    },
    {
      "cell_type": "code",
      "execution_count": null,
      "id": "121a6aa9",
      "metadata": {
        "id": "121a6aa9"
      },
      "outputs": [],
      "source": [
        "w2v_model = gensim.models.Word2Vec(X_train,\n",
        "                                   vector_size=200,\n",
        "                                   window=700,\n",
        "                                   min_count=5)"
      ]
    },
    {
      "cell_type": "code",
      "execution_count": null,
      "id": "795b5165",
      "metadata": {
        "id": "795b5165"
      },
      "outputs": [],
      "source": [
        "words = set(w2v_model.wv.index_to_key )\n",
        "X_train_vect = np.array([np.array([w2v_model.wv[i] for i in ls if i in words])\n",
        "                         for ls in X_train], dtype=object)\n",
        "X_test_vect = np.array([np.array([w2v_model.wv[i] for i in ls if i in words])\n",
        "                         for ls in X_test], dtype=object)"
      ]
    },
    {
      "cell_type": "code",
      "execution_count": null,
      "id": "263c8d5e",
      "metadata": {
        "id": "263c8d5e"
      },
      "outputs": [],
      "source": [
        "for i, v in enumerate(X_train_vect):\n",
        "    print(len(X_train.iloc[i]), len(v))"
      ]
    },
    {
      "cell_type": "code",
      "execution_count": null,
      "id": "0a1d7aa1",
      "metadata": {
        "scrolled": true,
        "id": "0a1d7aa1"
      },
      "outputs": [],
      "source": [
        "X_train_vect_avg = []\n",
        "for v in X_train_vect:\n",
        "    if v.size:\n",
        "        X_train_vect_avg.append(v.mean(axis=0))\n",
        "    else:\n",
        "        X_train_vect_avg.append(np.zeros(100, dtype=float))\n",
        "\n",
        "X_test_vect_avg = []\n",
        "for v in X_test_vect:\n",
        "    if v.size:\n",
        "        X_test_vect_avg.append(v.mean(axis=0))\n",
        "    else:\n",
        "        X_test_vect_avg.append(np.zeros(100, dtype=float))"
      ]
    },
    {
      "cell_type": "code",
      "execution_count": null,
      "id": "cd237445",
      "metadata": {
        "id": "cd237445"
      },
      "outputs": [],
      "source": [
        "for i, v in enumerate(X_train_vect_avg):\n",
        "    print(len(X_train.iloc[i]), len(v))"
      ]
    },
    {
      "cell_type": "code",
      "execution_count": null,
      "id": "1afcc2b1",
      "metadata": {
        "id": "1afcc2b1"
      },
      "outputs": [],
      "source": []
    },
    {
      "cell_type": "code",
      "execution_count": null,
      "id": "a00530f5",
      "metadata": {
        "id": "a00530f5"
      },
      "outputs": [],
      "source": [
        "from sklearn.ensemble import RandomForestClassifier\n",
        "rf = RandomForestClassifier()\n",
        "rf_model = rf.fit(X_train_vect_avg, y_train.values.ravel())"
      ]
    },
    {
      "cell_type": "code",
      "execution_count": null,
      "id": "ed67dc11",
      "metadata": {
        "id": "ed67dc11"
      },
      "outputs": [],
      "source": [
        "y_pred = rf_model.predict(X_test_vect_avg)"
      ]
    },
    {
      "cell_type": "code",
      "execution_count": null,
      "id": "07785ac1",
      "metadata": {
        "id": "07785ac1"
      },
      "outputs": [],
      "source": [
        "from sklearn.metrics import precision_score, recall_score\n",
        "precision = precision_score(y_test, y_pred)\n",
        "recall = recall_score(y_test, y_pred)\n",
        "print('Precision: {} / Recall: {} / Accuracy: {}'.format(\n",
        "    round(precision, 3), round(recall, 3), round((y_pred==y_test).sum()/len(y_pred), 3)))"
      ]
    },
    {
      "cell_type": "markdown",
      "id": "b5e05f24",
      "metadata": {
        "id": "b5e05f24"
      },
      "source": [
        "-------------------------------------------------------------------"
      ]
    },
    {
      "cell_type": "markdown",
      "id": "b0427a07",
      "metadata": {
        "id": "b0427a07"
      },
      "source": [
        "# MLP"
      ]
    },
    {
      "cell_type": "code",
      "execution_count": null,
      "id": "fadd0afb",
      "metadata": {
        "id": "fadd0afb"
      },
      "outputs": [],
      "source": [
        "from tensorflow.keras.models import Sequential\n",
        "from tensorflow.keras.layers import Dense\n",
        "from tensorflow.keras import regularizers"
      ]
    },
    {
      "cell_type": "code",
      "execution_count": null,
      "id": "88c539ca",
      "metadata": {
        "id": "88c539ca"
      },
      "outputs": [],
      "source": [
        "model = Sequential()\n",
        "model.add(Dense(input_dim=X_train.shape[1], units=100, kernel_regularizer= regularizers.L1(l1=1e-5), activation='relu'))\n",
        "model.add(Dense(units=64, activation='relu'))\n",
        "model.add(Dense(units=128, activation='relu'))\n",
        "model.add(Dense(units=1, activation='sigmoid'))"
      ]
    },
    {
      "cell_type": "code",
      "execution_count": null,
      "id": "9e80c9f6",
      "metadata": {
        "id": "9e80c9f6"
      },
      "outputs": [],
      "source": [
        "model.summary()"
      ]
    },
    {
      "cell_type": "code",
      "execution_count": null,
      "id": "789d56d8",
      "metadata": {
        "id": "789d56d8"
      },
      "outputs": [],
      "source": [
        "model.compile(optimizer='adam', loss='binary_crossentropy', metrics=['accuracy'])"
      ]
    },
    {
      "cell_type": "code",
      "execution_count": null,
      "id": "cd81f937",
      "metadata": {
        "id": "cd81f937"
      },
      "outputs": [],
      "source": [
        "history = model.fit(X_train, y_train, batch_size=64, epochs=40, verbose=1, validation_split=0.2)"
      ]
    },
    {
      "cell_type": "code",
      "execution_count": null,
      "id": "128b6688",
      "metadata": {
        "id": "128b6688"
      },
      "outputs": [],
      "source": [
        "from matplotlib import pyplot as plt"
      ]
    },
    {
      "cell_type": "code",
      "execution_count": null,
      "id": "2326846e",
      "metadata": {
        "id": "2326846e"
      },
      "outputs": [],
      "source": [
        "epochs = history.epoch\n",
        "plt.plot(epochs, history.history['loss']) # blue\n",
        "plt.plot(epochs, history.history['val_loss']) #orange\n",
        "plt.title('loss')"
      ]
    },
    {
      "cell_type": "code",
      "execution_count": null,
      "id": "b6dfdf76",
      "metadata": {
        "id": "b6dfdf76"
      },
      "outputs": [],
      "source": [
        "plt.plot(epochs, history.history['accuracy']) #blue\n",
        "plt.plot(epochs, history.history['val_accuracy']) #orange\n",
        "plt.title('accuracy')"
      ]
    },
    {
      "cell_type": "code",
      "execution_count": null,
      "id": "a3a3a03a",
      "metadata": {
        "id": "a3a3a03a"
      },
      "outputs": [],
      "source": [
        "model.evaluate(X_test, y_test, batch_size=64)"
      ]
    },
    {
      "cell_type": "markdown",
      "id": "7e6dcff9",
      "metadata": {
        "id": "7e6dcff9"
      },
      "source": [
        "----------------------------------------------------"
      ]
    },
    {
      "cell_type": "markdown",
      "id": "150c5b5e",
      "metadata": {
        "id": "150c5b5e"
      },
      "source": [
        "# METRICS"
      ]
    },
    {
      "cell_type": "code",
      "execution_count": null,
      "id": "c793a8c7",
      "metadata": {
        "id": "c793a8c7"
      },
      "outputs": [],
      "source": [
        "from sklearn.metrics import classification_report, confusion_matrix, precision_score"
      ]
    },
    {
      "cell_type": "code",
      "execution_count": null,
      "id": "1c8b789d",
      "metadata": {
        "id": "1c8b789d"
      },
      "outputs": [],
      "source": [
        "y_pred = model.predict(X_test)\n",
        "\n",
        "y_pred_new = [int(not(i<0.5)) for i in y_pred]\n",
        "y_test_new = y_test.to_numpy().tolist()\n",
        "\n",
        "\n",
        "confusion_matrix(y_test_new, y_pred_new)"
      ]
    },
    {
      "cell_type": "code",
      "execution_count": null,
      "id": "fb9a4908",
      "metadata": {
        "id": "fb9a4908"
      },
      "outputs": [],
      "source": [
        "classification_report(y_test_new, y_pred_new)"
      ]
    },
    {
      "cell_type": "code",
      "execution_count": null,
      "id": "e78474b9",
      "metadata": {
        "id": "e78474b9"
      },
      "outputs": [],
      "source": [
        "precision_score(y_test_new, y_pred_new)"
      ]
    }
  ],
  "metadata": {
    "kernelspec": {
      "display_name": "Python 3 (ipykernel)",
      "language": "python",
      "name": "python3"
    },
    "language_info": {
      "codemirror_mode": {
        "name": "ipython",
        "version": 3
      },
      "file_extension": ".py",
      "mimetype": "text/x-python",
      "name": "python",
      "nbconvert_exporter": "python",
      "pygments_lexer": "ipython3",
      "version": "3.9.10"
    },
    "colab": {
      "provenance": []
    }
  },
  "nbformat": 4,
  "nbformat_minor": 5
}