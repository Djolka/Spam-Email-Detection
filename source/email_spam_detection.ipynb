{
 "cells": [
  {
   "cell_type": "code",
   "execution_count": 1,
   "id": "06e9e74c",
   "metadata": {},
   "outputs": [],
   "source": [
    "import numpy as np\n",
    "import pandas as pd"
   ]
  },
  {
   "cell_type": "markdown",
   "id": "1400aef6",
   "metadata": {},
   "source": [
    "# Load dataset"
   ]
  },
  {
   "cell_type": "code",
   "execution_count": 2,
   "id": "820a38e3",
   "metadata": {},
   "outputs": [
    {
     "data": {
      "text/html": [
       "<div>\n",
       "<style scoped>\n",
       "    .dataframe tbody tr th:only-of-type {\n",
       "        vertical-align: middle;\n",
       "    }\n",
       "\n",
       "    .dataframe tbody tr th {\n",
       "        vertical-align: top;\n",
       "    }\n",
       "\n",
       "    .dataframe thead th {\n",
       "        text-align: right;\n",
       "    }\n",
       "</style>\n",
       "<table border=\"1\" class=\"dataframe\">\n",
       "  <thead>\n",
       "    <tr style=\"text-align: right;\">\n",
       "      <th></th>\n",
       "      <th>text</th>\n",
       "      <th>spam</th>\n",
       "    </tr>\n",
       "  </thead>\n",
       "  <tbody>\n",
       "    <tr>\n",
       "      <th>0</th>\n",
       "      <td>Subject: Hello djordje, This April, our webina...</td>\n",
       "      <td>1</td>\n",
       "    </tr>\n",
       "    <tr>\n",
       "      <th>1</th>\n",
       "      <td>Subject: naturally irresistible your corporate...</td>\n",
       "      <td>1</td>\n",
       "    </tr>\n",
       "    <tr>\n",
       "      <th>2</th>\n",
       "      <td>Subject: the stock trading gunslinger  fanny i...</td>\n",
       "      <td>1</td>\n",
       "    </tr>\n",
       "    <tr>\n",
       "      <th>3</th>\n",
       "      <td>Subject: unbelievable new homes made easy  im ...</td>\n",
       "      <td>1</td>\n",
       "    </tr>\n",
       "    <tr>\n",
       "      <th>4</th>\n",
       "      <td>Subject: 4 color printing special  request add...</td>\n",
       "      <td>1</td>\n",
       "    </tr>\n",
       "    <tr>\n",
       "      <th>...</th>\n",
       "      <td>...</td>\n",
       "      <td>...</td>\n",
       "    </tr>\n",
       "    <tr>\n",
       "      <th>449</th>\n",
       "      <td>Subject: re : research and development charges...</td>\n",
       "      <td>0</td>\n",
       "    </tr>\n",
       "    <tr>\n",
       "      <th>450</th>\n",
       "      <td>Subject: re : receipts from visit  jim ,  than...</td>\n",
       "      <td>0</td>\n",
       "    </tr>\n",
       "    <tr>\n",
       "      <th>451</th>\n",
       "      <td>Subject: re : enron case study update  wow ! a...</td>\n",
       "      <td>0</td>\n",
       "    </tr>\n",
       "    <tr>\n",
       "      <th>452</th>\n",
       "      <td>Subject: re : interest  david ,  please , call...</td>\n",
       "      <td>0</td>\n",
       "    </tr>\n",
       "    <tr>\n",
       "      <th>453</th>\n",
       "      <td>Subject: news : aurora 5 . 2 update  aurora ve...</td>\n",
       "      <td>0</td>\n",
       "    </tr>\n",
       "  </tbody>\n",
       "</table>\n",
       "<p>454 rows × 2 columns</p>\n",
       "</div>"
      ],
      "text/plain": [
       "                                                  text  spam\n",
       "0    Subject: Hello djordje, This April, our webina...     1\n",
       "1    Subject: naturally irresistible your corporate...     1\n",
       "2    Subject: the stock trading gunslinger  fanny i...     1\n",
       "3    Subject: unbelievable new homes made easy  im ...     1\n",
       "4    Subject: 4 color printing special  request add...     1\n",
       "..                                                 ...   ...\n",
       "449  Subject: re : research and development charges...     0\n",
       "450  Subject: re : receipts from visit  jim ,  than...     0\n",
       "451  Subject: re : enron case study update  wow ! a...     0\n",
       "452  Subject: re : interest  david ,  please , call...     0\n",
       "453  Subject: news : aurora 5 . 2 update  aurora ve...     0\n",
       "\n",
       "[454 rows x 2 columns]"
      ]
     },
     "execution_count": 2,
     "metadata": {},
     "output_type": "execute_result"
    }
   ],
   "source": [
    "df = pd.read_csv('../dataset/emails.csv')\n",
    "df"
   ]
  },
  {
   "cell_type": "code",
   "execution_count": 3,
   "id": "fa96e095",
   "metadata": {},
   "outputs": [],
   "source": [
    "# count0 = 0\n",
    "# count1 = 0\n",
    "# for i in df['spam']:\n",
    "#     if i == 1:\n",
    "#         count1+=1\n",
    "#     if i == 0:\n",
    "#         count0+=1\n",
    "\n",
    "# print(count0)\n",
    "# print(count1)"
   ]
  },
  {
   "cell_type": "code",
   "execution_count": 4,
   "id": "0c40f26f",
   "metadata": {},
   "outputs": [
    {
     "data": {
      "text/plain": [
       "(454, 2)"
      ]
     },
     "execution_count": 4,
     "metadata": {},
     "output_type": "execute_result"
    }
   ],
   "source": [
    "df.shape"
   ]
  },
  {
   "cell_type": "code",
   "execution_count": 5,
   "id": "6507b1ac",
   "metadata": {},
   "outputs": [
    {
     "data": {
      "text/plain": [
       "Index(['text', 'spam'], dtype='object')"
      ]
     },
     "execution_count": 5,
     "metadata": {},
     "output_type": "execute_result"
    }
   ],
   "source": [
    "df.columns"
   ]
  },
  {
   "cell_type": "markdown",
   "id": "8b7321a1",
   "metadata": {},
   "source": [
    "# Preprocessing data"
   ]
  },
  {
   "cell_type": "code",
   "execution_count": 6,
   "id": "1c588688",
   "metadata": {},
   "outputs": [],
   "source": [
    "df.drop_duplicates(inplace=True)"
   ]
  },
  {
   "cell_type": "code",
   "execution_count": 7,
   "id": "ea89ec46",
   "metadata": {},
   "outputs": [
    {
     "data": {
      "text/plain": [
       "(454, 2)"
      ]
     },
     "execution_count": 7,
     "metadata": {},
     "output_type": "execute_result"
    }
   ],
   "source": [
    "df.shape"
   ]
  },
  {
   "cell_type": "code",
   "execution_count": 8,
   "id": "a1aa3621",
   "metadata": {},
   "outputs": [
    {
     "data": {
      "text/plain": [
       "text    0\n",
       "spam    0\n",
       "dtype: int64"
      ]
     },
     "execution_count": 8,
     "metadata": {},
     "output_type": "execute_result"
    }
   ],
   "source": [
    "df.isnull().sum()"
   ]
  },
  {
   "cell_type": "code",
   "execution_count": 9,
   "id": "351b1b20",
   "metadata": {
    "scrolled": true
   },
   "outputs": [
    {
     "data": {
      "text/plain": [
       "0      Subject: Hello djordje, This April, our webina...\n",
       "1      Subject: naturally irresistible your corporate...\n",
       "2      Subject: the stock trading gunslinger  fanny i...\n",
       "3      Subject: unbelievable new homes made easy  im ...\n",
       "4      Subject: 4 color printing special  request add...\n",
       "                             ...                        \n",
       "449    Subject: re : research and development charges...\n",
       "450    Subject: re : receipts from visit  jim ,  than...\n",
       "451    Subject: re : enron case study update  wow ! a...\n",
       "452    Subject: re : interest  david ,  please , call...\n",
       "453    Subject: news : aurora 5 . 2 update  aurora ve...\n",
       "Name: text, Length: 454, dtype: object"
      ]
     },
     "execution_count": 9,
     "metadata": {},
     "output_type": "execute_result"
    }
   ],
   "source": [
    "X = df['text']\n",
    "X"
   ]
  },
  {
   "cell_type": "code",
   "execution_count": 10,
   "id": "60c986aa",
   "metadata": {},
   "outputs": [
    {
     "data": {
      "text/plain": [
       "0      1\n",
       "1      1\n",
       "2      1\n",
       "3      1\n",
       "4      1\n",
       "      ..\n",
       "449    0\n",
       "450    0\n",
       "451    0\n",
       "452    0\n",
       "453    0\n",
       "Name: spam, Length: 454, dtype: int64"
      ]
     },
     "execution_count": 10,
     "metadata": {},
     "output_type": "execute_result"
    }
   ],
   "source": [
    "y = df['spam']\n",
    "y"
   ]
  },
  {
   "cell_type": "code",
   "execution_count": null,
   "id": "a8503c7c",
   "metadata": {},
   "outputs": [],
   "source": []
  },
  {
   "cell_type": "markdown",
   "id": "9ac74f61",
   "metadata": {},
   "source": [
    "# CountVectorizer"
   ]
  },
  {
   "cell_type": "code",
   "execution_count": 11,
   "id": "cdc7c26e",
   "metadata": {},
   "outputs": [],
   "source": [
    "# from sklearn.feature_extraction.text import CountVectorizer"
   ]
  },
  {
   "cell_type": "code",
   "execution_count": 12,
   "id": "25147f2f",
   "metadata": {},
   "outputs": [],
   "source": [
    "# cv = CountVectorizer()"
   ]
  },
  {
   "cell_type": "code",
   "execution_count": 13,
   "id": "5bd7abcd",
   "metadata": {},
   "outputs": [],
   "source": [
    "# X = cv.fit_transform(X)"
   ]
  },
  {
   "cell_type": "code",
   "execution_count": 14,
   "id": "d48e2cc9",
   "metadata": {},
   "outputs": [],
   "source": [
    "# cv.get_feature_names_out()"
   ]
  },
  {
   "cell_type": "code",
   "execution_count": 15,
   "id": "72d67ff9",
   "metadata": {},
   "outputs": [],
   "source": [
    "# my_df = pd.DataFrame(data=X.toarray(), columns=cv.get_feature_names_out())"
   ]
  },
  {
   "cell_type": "code",
   "execution_count": 16,
   "id": "3e4537f8",
   "metadata": {},
   "outputs": [],
   "source": [
    "# my_df['isSpam'] = y.tolist()"
   ]
  },
  {
   "cell_type": "code",
   "execution_count": 17,
   "id": "0a0bef79",
   "metadata": {},
   "outputs": [],
   "source": [
    "# my_df"
   ]
  },
  {
   "cell_type": "code",
   "execution_count": 18,
   "id": "49bcfda7",
   "metadata": {},
   "outputs": [],
   "source": [
    "# X = pd.DataFrame(X.toarray()) # konverzija u DataFrame"
   ]
  },
  {
   "cell_type": "markdown",
   "id": "54a6a4da",
   "metadata": {},
   "source": [
    "--------------------------------------------------------------"
   ]
  },
  {
   "cell_type": "markdown",
   "id": "5f9ec5f3",
   "metadata": {},
   "source": [
    "# TF-IDF matrix"
   ]
  },
  {
   "cell_type": "code",
   "execution_count": 19,
   "id": "72e50c8b",
   "metadata": {},
   "outputs": [],
   "source": [
    "from sklearn.feature_extraction.text import TfidfVectorizer"
   ]
  },
  {
   "cell_type": "code",
   "execution_count": 20,
   "id": "1580eec7",
   "metadata": {},
   "outputs": [],
   "source": [
    "tf = TfidfVectorizer(max_df=0.8) # ignore terms that appear in more than 80% of the documents"
   ]
  },
  {
   "cell_type": "code",
   "execution_count": 21,
   "id": "9ccd7f45",
   "metadata": {},
   "outputs": [],
   "source": [
    "X = tf.fit_transform(X)"
   ]
  },
  {
   "cell_type": "code",
   "execution_count": 22,
   "id": "4d3c6314",
   "metadata": {},
   "outputs": [
    {
     "data": {
      "text/plain": [
       "array(['00', '000', '0000', ..., 'zwlaszcza', 'zxghlajf', 'zzzz'],\n",
       "      dtype=object)"
      ]
     },
     "execution_count": 22,
     "metadata": {},
     "output_type": "execute_result"
    }
   ],
   "source": [
    "tf.get_feature_names_out()"
   ]
  },
  {
   "cell_type": "code",
   "execution_count": 23,
   "id": "2a345a55",
   "metadata": {},
   "outputs": [],
   "source": [
    "my_df = pd.DataFrame(data=X.toarray(), columns = tf.get_feature_names_out())"
   ]
  },
  {
   "cell_type": "code",
   "execution_count": 24,
   "id": "d089e5e4",
   "metadata": {},
   "outputs": [],
   "source": [
    "my_df['isSpam'] = y.tolist()"
   ]
  },
  {
   "cell_type": "code",
   "execution_count": 25,
   "id": "382497b1",
   "metadata": {},
   "outputs": [
    {
     "data": {
      "text/plain": [
       "Index(['00', '000', '0000', '00000000', '000000000003991', '000000000005411',\n",
       "       '0001', '0011', '00225', '0044',\n",
       "       ...\n",
       "       'znalazlam', 'zones', 'zoolant', 'zrobic', 'zrobilem', 'zulkifli',\n",
       "       'zwlaszcza', 'zxghlajf', 'zzzz', 'isSpam'],\n",
       "      dtype='object', length=11296)"
      ]
     },
     "execution_count": 25,
     "metadata": {},
     "output_type": "execute_result"
    }
   ],
   "source": [
    "my_df.columns"
   ]
  },
  {
   "cell_type": "code",
   "execution_count": 26,
   "id": "7f8deb77",
   "metadata": {},
   "outputs": [
    {
     "data": {
      "text/html": [
       "<div>\n",
       "<style scoped>\n",
       "    .dataframe tbody tr th:only-of-type {\n",
       "        vertical-align: middle;\n",
       "    }\n",
       "\n",
       "    .dataframe tbody tr th {\n",
       "        vertical-align: top;\n",
       "    }\n",
       "\n",
       "    .dataframe thead th {\n",
       "        text-align: right;\n",
       "    }\n",
       "</style>\n",
       "<table border=\"1\" class=\"dataframe\">\n",
       "  <thead>\n",
       "    <tr style=\"text-align: right;\">\n",
       "      <th></th>\n",
       "      <th>00</th>\n",
       "      <th>000</th>\n",
       "      <th>0000</th>\n",
       "      <th>00000000</th>\n",
       "      <th>000000000003991</th>\n",
       "      <th>000000000005411</th>\n",
       "      <th>0001</th>\n",
       "      <th>0011</th>\n",
       "      <th>00225</th>\n",
       "      <th>0044</th>\n",
       "      <th>...</th>\n",
       "      <th>znalazlam</th>\n",
       "      <th>zones</th>\n",
       "      <th>zoolant</th>\n",
       "      <th>zrobic</th>\n",
       "      <th>zrobilem</th>\n",
       "      <th>zulkifli</th>\n",
       "      <th>zwlaszcza</th>\n",
       "      <th>zxghlajf</th>\n",
       "      <th>zzzz</th>\n",
       "      <th>isSpam</th>\n",
       "    </tr>\n",
       "  </thead>\n",
       "  <tbody>\n",
       "    <tr>\n",
       "      <th>0</th>\n",
       "      <td>0.000000</td>\n",
       "      <td>0.0</td>\n",
       "      <td>0.0</td>\n",
       "      <td>0.0</td>\n",
       "      <td>0.0</td>\n",
       "      <td>0.0</td>\n",
       "      <td>0.0</td>\n",
       "      <td>0.0</td>\n",
       "      <td>0.0</td>\n",
       "      <td>0.0</td>\n",
       "      <td>...</td>\n",
       "      <td>0.0</td>\n",
       "      <td>0.0</td>\n",
       "      <td>0.0</td>\n",
       "      <td>0.0</td>\n",
       "      <td>0.0</td>\n",
       "      <td>0.0</td>\n",
       "      <td>0.0</td>\n",
       "      <td>0.0</td>\n",
       "      <td>0.0</td>\n",
       "      <td>1</td>\n",
       "    </tr>\n",
       "    <tr>\n",
       "      <th>1</th>\n",
       "      <td>0.000000</td>\n",
       "      <td>0.0</td>\n",
       "      <td>0.0</td>\n",
       "      <td>0.0</td>\n",
       "      <td>0.0</td>\n",
       "      <td>0.0</td>\n",
       "      <td>0.0</td>\n",
       "      <td>0.0</td>\n",
       "      <td>0.0</td>\n",
       "      <td>0.0</td>\n",
       "      <td>...</td>\n",
       "      <td>0.0</td>\n",
       "      <td>0.0</td>\n",
       "      <td>0.0</td>\n",
       "      <td>0.0</td>\n",
       "      <td>0.0</td>\n",
       "      <td>0.0</td>\n",
       "      <td>0.0</td>\n",
       "      <td>0.0</td>\n",
       "      <td>0.0</td>\n",
       "      <td>1</td>\n",
       "    </tr>\n",
       "    <tr>\n",
       "      <th>2</th>\n",
       "      <td>0.000000</td>\n",
       "      <td>0.0</td>\n",
       "      <td>0.0</td>\n",
       "      <td>0.0</td>\n",
       "      <td>0.0</td>\n",
       "      <td>0.0</td>\n",
       "      <td>0.0</td>\n",
       "      <td>0.0</td>\n",
       "      <td>0.0</td>\n",
       "      <td>0.0</td>\n",
       "      <td>...</td>\n",
       "      <td>0.0</td>\n",
       "      <td>0.0</td>\n",
       "      <td>0.0</td>\n",
       "      <td>0.0</td>\n",
       "      <td>0.0</td>\n",
       "      <td>0.0</td>\n",
       "      <td>0.0</td>\n",
       "      <td>0.0</td>\n",
       "      <td>0.0</td>\n",
       "      <td>1</td>\n",
       "    </tr>\n",
       "    <tr>\n",
       "      <th>3</th>\n",
       "      <td>0.000000</td>\n",
       "      <td>0.0</td>\n",
       "      <td>0.0</td>\n",
       "      <td>0.0</td>\n",
       "      <td>0.0</td>\n",
       "      <td>0.0</td>\n",
       "      <td>0.0</td>\n",
       "      <td>0.0</td>\n",
       "      <td>0.0</td>\n",
       "      <td>0.0</td>\n",
       "      <td>...</td>\n",
       "      <td>0.0</td>\n",
       "      <td>0.0</td>\n",
       "      <td>0.0</td>\n",
       "      <td>0.0</td>\n",
       "      <td>0.0</td>\n",
       "      <td>0.0</td>\n",
       "      <td>0.0</td>\n",
       "      <td>0.0</td>\n",
       "      <td>0.0</td>\n",
       "      <td>1</td>\n",
       "    </tr>\n",
       "    <tr>\n",
       "      <th>4</th>\n",
       "      <td>0.000000</td>\n",
       "      <td>0.0</td>\n",
       "      <td>0.0</td>\n",
       "      <td>0.0</td>\n",
       "      <td>0.0</td>\n",
       "      <td>0.0</td>\n",
       "      <td>0.0</td>\n",
       "      <td>0.0</td>\n",
       "      <td>0.0</td>\n",
       "      <td>0.0</td>\n",
       "      <td>...</td>\n",
       "      <td>0.0</td>\n",
       "      <td>0.0</td>\n",
       "      <td>0.0</td>\n",
       "      <td>0.0</td>\n",
       "      <td>0.0</td>\n",
       "      <td>0.0</td>\n",
       "      <td>0.0</td>\n",
       "      <td>0.0</td>\n",
       "      <td>0.0</td>\n",
       "      <td>1</td>\n",
       "    </tr>\n",
       "    <tr>\n",
       "      <th>...</th>\n",
       "      <td>...</td>\n",
       "      <td>...</td>\n",
       "      <td>...</td>\n",
       "      <td>...</td>\n",
       "      <td>...</td>\n",
       "      <td>...</td>\n",
       "      <td>...</td>\n",
       "      <td>...</td>\n",
       "      <td>...</td>\n",
       "      <td>...</td>\n",
       "      <td>...</td>\n",
       "      <td>...</td>\n",
       "      <td>...</td>\n",
       "      <td>...</td>\n",
       "      <td>...</td>\n",
       "      <td>...</td>\n",
       "      <td>...</td>\n",
       "      <td>...</td>\n",
       "      <td>...</td>\n",
       "      <td>...</td>\n",
       "      <td>...</td>\n",
       "    </tr>\n",
       "    <tr>\n",
       "      <th>449</th>\n",
       "      <td>0.000000</td>\n",
       "      <td>0.0</td>\n",
       "      <td>0.0</td>\n",
       "      <td>0.0</td>\n",
       "      <td>0.0</td>\n",
       "      <td>0.0</td>\n",
       "      <td>0.0</td>\n",
       "      <td>0.0</td>\n",
       "      <td>0.0</td>\n",
       "      <td>0.0</td>\n",
       "      <td>...</td>\n",
       "      <td>0.0</td>\n",
       "      <td>0.0</td>\n",
       "      <td>0.0</td>\n",
       "      <td>0.0</td>\n",
       "      <td>0.0</td>\n",
       "      <td>0.0</td>\n",
       "      <td>0.0</td>\n",
       "      <td>0.0</td>\n",
       "      <td>0.0</td>\n",
       "      <td>0</td>\n",
       "    </tr>\n",
       "    <tr>\n",
       "      <th>450</th>\n",
       "      <td>0.035866</td>\n",
       "      <td>0.0</td>\n",
       "      <td>0.0</td>\n",
       "      <td>0.0</td>\n",
       "      <td>0.0</td>\n",
       "      <td>0.0</td>\n",
       "      <td>0.0</td>\n",
       "      <td>0.0</td>\n",
       "      <td>0.0</td>\n",
       "      <td>0.0</td>\n",
       "      <td>...</td>\n",
       "      <td>0.0</td>\n",
       "      <td>0.0</td>\n",
       "      <td>0.0</td>\n",
       "      <td>0.0</td>\n",
       "      <td>0.0</td>\n",
       "      <td>0.0</td>\n",
       "      <td>0.0</td>\n",
       "      <td>0.0</td>\n",
       "      <td>0.0</td>\n",
       "      <td>0</td>\n",
       "    </tr>\n",
       "    <tr>\n",
       "      <th>451</th>\n",
       "      <td>0.116746</td>\n",
       "      <td>0.0</td>\n",
       "      <td>0.0</td>\n",
       "      <td>0.0</td>\n",
       "      <td>0.0</td>\n",
       "      <td>0.0</td>\n",
       "      <td>0.0</td>\n",
       "      <td>0.0</td>\n",
       "      <td>0.0</td>\n",
       "      <td>0.0</td>\n",
       "      <td>...</td>\n",
       "      <td>0.0</td>\n",
       "      <td>0.0</td>\n",
       "      <td>0.0</td>\n",
       "      <td>0.0</td>\n",
       "      <td>0.0</td>\n",
       "      <td>0.0</td>\n",
       "      <td>0.0</td>\n",
       "      <td>0.0</td>\n",
       "      <td>0.0</td>\n",
       "      <td>0</td>\n",
       "    </tr>\n",
       "    <tr>\n",
       "      <th>452</th>\n",
       "      <td>0.000000</td>\n",
       "      <td>0.0</td>\n",
       "      <td>0.0</td>\n",
       "      <td>0.0</td>\n",
       "      <td>0.0</td>\n",
       "      <td>0.0</td>\n",
       "      <td>0.0</td>\n",
       "      <td>0.0</td>\n",
       "      <td>0.0</td>\n",
       "      <td>0.0</td>\n",
       "      <td>...</td>\n",
       "      <td>0.0</td>\n",
       "      <td>0.0</td>\n",
       "      <td>0.0</td>\n",
       "      <td>0.0</td>\n",
       "      <td>0.0</td>\n",
       "      <td>0.0</td>\n",
       "      <td>0.0</td>\n",
       "      <td>0.0</td>\n",
       "      <td>0.0</td>\n",
       "      <td>0</td>\n",
       "    </tr>\n",
       "    <tr>\n",
       "      <th>453</th>\n",
       "      <td>0.000000</td>\n",
       "      <td>0.0</td>\n",
       "      <td>0.0</td>\n",
       "      <td>0.0</td>\n",
       "      <td>0.0</td>\n",
       "      <td>0.0</td>\n",
       "      <td>0.0</td>\n",
       "      <td>0.0</td>\n",
       "      <td>0.0</td>\n",
       "      <td>0.0</td>\n",
       "      <td>...</td>\n",
       "      <td>0.0</td>\n",
       "      <td>0.0</td>\n",
       "      <td>0.0</td>\n",
       "      <td>0.0</td>\n",
       "      <td>0.0</td>\n",
       "      <td>0.0</td>\n",
       "      <td>0.0</td>\n",
       "      <td>0.0</td>\n",
       "      <td>0.0</td>\n",
       "      <td>0</td>\n",
       "    </tr>\n",
       "  </tbody>\n",
       "</table>\n",
       "<p>454 rows × 11296 columns</p>\n",
       "</div>"
      ],
      "text/plain": [
       "           00  000  0000  00000000  000000000003991  000000000005411  0001  \\\n",
       "0    0.000000  0.0   0.0       0.0              0.0              0.0   0.0   \n",
       "1    0.000000  0.0   0.0       0.0              0.0              0.0   0.0   \n",
       "2    0.000000  0.0   0.0       0.0              0.0              0.0   0.0   \n",
       "3    0.000000  0.0   0.0       0.0              0.0              0.0   0.0   \n",
       "4    0.000000  0.0   0.0       0.0              0.0              0.0   0.0   \n",
       "..        ...  ...   ...       ...              ...              ...   ...   \n",
       "449  0.000000  0.0   0.0       0.0              0.0              0.0   0.0   \n",
       "450  0.035866  0.0   0.0       0.0              0.0              0.0   0.0   \n",
       "451  0.116746  0.0   0.0       0.0              0.0              0.0   0.0   \n",
       "452  0.000000  0.0   0.0       0.0              0.0              0.0   0.0   \n",
       "453  0.000000  0.0   0.0       0.0              0.0              0.0   0.0   \n",
       "\n",
       "     0011  00225  0044  ...  znalazlam  zones  zoolant  zrobic  zrobilem  \\\n",
       "0     0.0    0.0   0.0  ...        0.0    0.0      0.0     0.0       0.0   \n",
       "1     0.0    0.0   0.0  ...        0.0    0.0      0.0     0.0       0.0   \n",
       "2     0.0    0.0   0.0  ...        0.0    0.0      0.0     0.0       0.0   \n",
       "3     0.0    0.0   0.0  ...        0.0    0.0      0.0     0.0       0.0   \n",
       "4     0.0    0.0   0.0  ...        0.0    0.0      0.0     0.0       0.0   \n",
       "..    ...    ...   ...  ...        ...    ...      ...     ...       ...   \n",
       "449   0.0    0.0   0.0  ...        0.0    0.0      0.0     0.0       0.0   \n",
       "450   0.0    0.0   0.0  ...        0.0    0.0      0.0     0.0       0.0   \n",
       "451   0.0    0.0   0.0  ...        0.0    0.0      0.0     0.0       0.0   \n",
       "452   0.0    0.0   0.0  ...        0.0    0.0      0.0     0.0       0.0   \n",
       "453   0.0    0.0   0.0  ...        0.0    0.0      0.0     0.0       0.0   \n",
       "\n",
       "     zulkifli  zwlaszcza  zxghlajf  zzzz  isSpam  \n",
       "0         0.0        0.0       0.0   0.0       1  \n",
       "1         0.0        0.0       0.0   0.0       1  \n",
       "2         0.0        0.0       0.0   0.0       1  \n",
       "3         0.0        0.0       0.0   0.0       1  \n",
       "4         0.0        0.0       0.0   0.0       1  \n",
       "..        ...        ...       ...   ...     ...  \n",
       "449       0.0        0.0       0.0   0.0       0  \n",
       "450       0.0        0.0       0.0   0.0       0  \n",
       "451       0.0        0.0       0.0   0.0       0  \n",
       "452       0.0        0.0       0.0   0.0       0  \n",
       "453       0.0        0.0       0.0   0.0       0  \n",
       "\n",
       "[454 rows x 11296 columns]"
      ]
     },
     "execution_count": 26,
     "metadata": {},
     "output_type": "execute_result"
    }
   ],
   "source": [
    "my_df"
   ]
  },
  {
   "cell_type": "code",
   "execution_count": null,
   "id": "a7aa6392",
   "metadata": {},
   "outputs": [],
   "source": []
  },
  {
   "cell_type": "code",
   "execution_count": 27,
   "id": "491e1f66",
   "metadata": {},
   "outputs": [],
   "source": [
    "X = pd.DataFrame(X.toarray()) # konverzija u DataFrame"
   ]
  },
  {
   "cell_type": "markdown",
   "id": "9004fcf4",
   "metadata": {},
   "source": [
    "----------------------------------------------"
   ]
  },
  {
   "cell_type": "markdown",
   "id": "b0a499a1",
   "metadata": {},
   "source": [
    "# Train test split"
   ]
  },
  {
   "cell_type": "code",
   "execution_count": 28,
   "id": "b3b52eac",
   "metadata": {},
   "outputs": [],
   "source": [
    "from sklearn.model_selection import train_test_split"
   ]
  },
  {
   "cell_type": "code",
   "execution_count": 29,
   "id": "d80060b9",
   "metadata": {},
   "outputs": [],
   "source": [
    "X_train, X_test, y_train, y_test = train_test_split(X, y, test_size=0.3, random_state=42, stratify=y)"
   ]
  },
  {
   "cell_type": "code",
   "execution_count": 30,
   "id": "14a6a5a9",
   "metadata": {},
   "outputs": [
    {
     "data": {
      "text/plain": [
       "(317, 11295)"
      ]
     },
     "execution_count": 30,
     "metadata": {},
     "output_type": "execute_result"
    }
   ],
   "source": [
    "X_train.shape"
   ]
  },
  {
   "cell_type": "code",
   "execution_count": 31,
   "id": "30bc0642",
   "metadata": {
    "scrolled": true
   },
   "outputs": [
    {
     "data": {
      "text/plain": [
       "(137, 11295)"
      ]
     },
     "execution_count": 31,
     "metadata": {},
     "output_type": "execute_result"
    }
   ],
   "source": [
    "X_test.shape"
   ]
  },
  {
   "cell_type": "markdown",
   "id": "b5e05f24",
   "metadata": {},
   "source": [
    "-------------------------------------------------------------------"
   ]
  },
  {
   "cell_type": "markdown",
   "id": "b0427a07",
   "metadata": {},
   "source": [
    "# MLP"
   ]
  },
  {
   "cell_type": "code",
   "execution_count": 32,
   "id": "fadd0afb",
   "metadata": {},
   "outputs": [],
   "source": [
    "from tensorflow.keras.models import Sequential\n",
    "from tensorflow.keras.layers import Dense\n",
    "from tensorflow.keras import regularizers"
   ]
  },
  {
   "cell_type": "code",
   "execution_count": 33,
   "id": "fc5f0d09",
   "metadata": {},
   "outputs": [
    {
     "data": {
      "text/plain": [
       "11295"
      ]
     },
     "execution_count": 33,
     "metadata": {},
     "output_type": "execute_result"
    }
   ],
   "source": [
    "X_train.shape[1]"
   ]
  },
  {
   "cell_type": "code",
   "execution_count": 34,
   "id": "88c539ca",
   "metadata": {},
   "outputs": [],
   "source": [
    "model = Sequential()\n",
    "model.add(Dense(input_dim=X_train.shape[1], units=100, kernel_regularizer= regularizers.L1(l1=1e-5), activation='relu')) \n",
    "model.add(Dense(units=64, activation='relu'))\n",
    "model.add(Dense(units=128, activation='relu'))\n",
    "# model.add(Dense(units=32, activation='relu'))\n",
    "model.add(Dense(units=1, activation='sigmoid'))"
   ]
  },
  {
   "cell_type": "code",
   "execution_count": 35,
   "id": "9e80c9f6",
   "metadata": {},
   "outputs": [
    {
     "name": "stdout",
     "output_type": "stream",
     "text": [
      "Model: \"sequential\"\n",
      "_________________________________________________________________\n",
      " Layer (type)                Output Shape              Param #   \n",
      "=================================================================\n",
      " dense (Dense)               (None, 100)               1129600   \n",
      "                                                                 \n",
      " dense_1 (Dense)             (None, 64)                6464      \n",
      "                                                                 \n",
      " dense_2 (Dense)             (None, 128)               8320      \n",
      "                                                                 \n",
      " dense_3 (Dense)             (None, 1)                 129       \n",
      "                                                                 \n",
      "=================================================================\n",
      "Total params: 1,144,513\n",
      "Trainable params: 1,144,513\n",
      "Non-trainable params: 0\n",
      "_________________________________________________________________\n"
     ]
    }
   ],
   "source": [
    "model.summary()"
   ]
  },
  {
   "cell_type": "code",
   "execution_count": 36,
   "id": "789d56d8",
   "metadata": {},
   "outputs": [],
   "source": [
    "model.compile(optimizer='adam', loss='binary_crossentropy', metrics=['accuracy'])"
   ]
  },
  {
   "cell_type": "code",
   "execution_count": 37,
   "id": "cd81f937",
   "metadata": {},
   "outputs": [
    {
     "name": "stdout",
     "output_type": "stream",
     "text": [
      "Epoch 1/40\n",
      "4/4 [==============================] - 3s 186ms/step - loss: 0.8101 - accuracy: 0.5652 - val_loss: 0.7890 - val_accuracy: 0.5469\n",
      "Epoch 2/40\n",
      "4/4 [==============================] - 0s 62ms/step - loss: 0.7662 - accuracy: 0.7866 - val_loss: 0.7464 - val_accuracy: 0.7500\n",
      "Epoch 3/40\n",
      "4/4 [==============================] - 0s 81ms/step - loss: 0.7048 - accuracy: 0.9921 - val_loss: 0.6902 - val_accuracy: 0.9062\n",
      "Epoch 4/40\n",
      "4/4 [==============================] - 0s 70ms/step - loss: 0.6180 - accuracy: 1.0000 - val_loss: 0.6165 - val_accuracy: 0.9531\n",
      "Epoch 5/40\n",
      "4/4 [==============================] - 0s 66ms/step - loss: 0.5043 - accuracy: 1.0000 - val_loss: 0.5261 - val_accuracy: 0.9531\n",
      "Epoch 6/40\n",
      "4/4 [==============================] - 0s 64ms/step - loss: 0.3706 - accuracy: 1.0000 - val_loss: 0.4278 - val_accuracy: 0.9531\n",
      "Epoch 7/40\n",
      "4/4 [==============================] - 0s 62ms/step - loss: 0.2434 - accuracy: 1.0000 - val_loss: 0.3371 - val_accuracy: 0.9688\n",
      "Epoch 8/40\n",
      "4/4 [==============================] - 0s 55ms/step - loss: 0.1501 - accuracy: 1.0000 - val_loss: 0.2636 - val_accuracy: 0.9688\n",
      "Epoch 9/40\n",
      "4/4 [==============================] - 0s 57ms/step - loss: 0.0962 - accuracy: 1.0000 - val_loss: 0.2128 - val_accuracy: 0.9688\n",
      "Epoch 10/40\n",
      "4/4 [==============================] - 0s 57ms/step - loss: 0.0715 - accuracy: 1.0000 - val_loss: 0.1816 - val_accuracy: 0.9688\n",
      "Epoch 11/40\n",
      "4/4 [==============================] - 0s 54ms/step - loss: 0.0610 - accuracy: 1.0000 - val_loss: 0.1633 - val_accuracy: 0.9688\n",
      "Epoch 12/40\n",
      "4/4 [==============================] - 0s 58ms/step - loss: 0.0552 - accuracy: 1.0000 - val_loss: 0.1522 - val_accuracy: 0.9688\n",
      "Epoch 13/40\n",
      "4/4 [==============================] - 0s 59ms/step - loss: 0.0513 - accuracy: 1.0000 - val_loss: 0.1454 - val_accuracy: 0.9688\n",
      "Epoch 14/40\n",
      "4/4 [==============================] - 0s 60ms/step - loss: 0.0481 - accuracy: 1.0000 - val_loss: 0.1406 - val_accuracy: 0.9688\n",
      "Epoch 15/40\n",
      "4/4 [==============================] - 0s 55ms/step - loss: 0.0451 - accuracy: 1.0000 - val_loss: 0.1374 - val_accuracy: 0.9688\n",
      "Epoch 16/40\n",
      "4/4 [==============================] - 0s 59ms/step - loss: 0.0424 - accuracy: 1.0000 - val_loss: 0.1348 - val_accuracy: 0.9688\n",
      "Epoch 17/40\n",
      "4/4 [==============================] - 0s 59ms/step - loss: 0.0399 - accuracy: 1.0000 - val_loss: 0.1331 - val_accuracy: 0.9688\n",
      "Epoch 18/40\n",
      "4/4 [==============================] - 0s 55ms/step - loss: 0.0376 - accuracy: 1.0000 - val_loss: 0.1316 - val_accuracy: 0.9688\n",
      "Epoch 19/40\n",
      "4/4 [==============================] - 0s 55ms/step - loss: 0.0355 - accuracy: 1.0000 - val_loss: 0.1305 - val_accuracy: 0.9844\n",
      "Epoch 20/40\n",
      "4/4 [==============================] - 0s 65ms/step - loss: 0.0336 - accuracy: 1.0000 - val_loss: 0.1296 - val_accuracy: 0.9844\n",
      "Epoch 21/40\n",
      "4/4 [==============================] - 0s 61ms/step - loss: 0.0318 - accuracy: 1.0000 - val_loss: 0.1287 - val_accuracy: 0.9844\n",
      "Epoch 22/40\n",
      "4/4 [==============================] - 0s 64ms/step - loss: 0.0302 - accuracy: 1.0000 - val_loss: 0.1278 - val_accuracy: 0.9844\n",
      "Epoch 23/40\n",
      "4/4 [==============================] - 0s 66ms/step - loss: 0.0288 - accuracy: 1.0000 - val_loss: 0.1269 - val_accuracy: 0.9844\n",
      "Epoch 24/40\n",
      "4/4 [==============================] - 0s 60ms/step - loss: 0.0274 - accuracy: 1.0000 - val_loss: 0.1261 - val_accuracy: 0.9844\n",
      "Epoch 25/40\n",
      "4/4 [==============================] - 0s 59ms/step - loss: 0.0262 - accuracy: 1.0000 - val_loss: 0.1249 - val_accuracy: 0.9844\n",
      "Epoch 26/40\n",
      "4/4 [==============================] - 0s 114ms/step - loss: 0.0251 - accuracy: 1.0000 - val_loss: 0.1241 - val_accuracy: 0.9844\n",
      "Epoch 27/40\n",
      "4/4 [==============================] - 0s 103ms/step - loss: 0.0240 - accuracy: 1.0000 - val_loss: 0.1241 - val_accuracy: 0.9844\n",
      "Epoch 28/40\n",
      "4/4 [==============================] - 0s 92ms/step - loss: 0.0231 - accuracy: 1.0000 - val_loss: 0.1227 - val_accuracy: 0.9844\n",
      "Epoch 29/40\n",
      "4/4 [==============================] - 0s 63ms/step - loss: 0.0222 - accuracy: 1.0000 - val_loss: 0.1219 - val_accuracy: 0.9844\n",
      "Epoch 30/40\n",
      "4/4 [==============================] - 0s 74ms/step - loss: 0.0213 - accuracy: 1.0000 - val_loss: 0.1213 - val_accuracy: 0.9844\n",
      "Epoch 31/40\n",
      "4/4 [==============================] - 0s 81ms/step - loss: 0.0205 - accuracy: 1.0000 - val_loss: 0.1206 - val_accuracy: 0.9844\n",
      "Epoch 32/40\n",
      "4/4 [==============================] - 0s 63ms/step - loss: 0.0198 - accuracy: 1.0000 - val_loss: 0.1200 - val_accuracy: 0.9844\n",
      "Epoch 33/40\n",
      "4/4 [==============================] - 0s 90ms/step - loss: 0.0191 - accuracy: 1.0000 - val_loss: 0.1189 - val_accuracy: 0.9844\n",
      "Epoch 34/40\n",
      "4/4 [==============================] - 0s 82ms/step - loss: 0.0184 - accuracy: 1.0000 - val_loss: 0.1181 - val_accuracy: 0.9844\n",
      "Epoch 35/40\n",
      "4/4 [==============================] - 0s 72ms/step - loss: 0.0178 - accuracy: 1.0000 - val_loss: 0.1176 - val_accuracy: 0.9844\n",
      "Epoch 36/40\n",
      "4/4 [==============================] - 0s 64ms/step - loss: 0.0172 - accuracy: 1.0000 - val_loss: 0.1180 - val_accuracy: 0.9844\n",
      "Epoch 37/40\n",
      "4/4 [==============================] - 0s 136ms/step - loss: 0.0167 - accuracy: 1.0000 - val_loss: 0.1181 - val_accuracy: 0.9844\n",
      "Epoch 38/40\n",
      "4/4 [==============================] - 0s 74ms/step - loss: 0.0162 - accuracy: 1.0000 - val_loss: 0.1168 - val_accuracy: 0.9844\n",
      "Epoch 39/40\n",
      "4/4 [==============================] - 0s 61ms/step - loss: 0.0157 - accuracy: 1.0000 - val_loss: 0.1170 - val_accuracy: 0.9844\n",
      "Epoch 40/40\n",
      "4/4 [==============================] - 0s 59ms/step - loss: 0.0152 - accuracy: 1.0000 - val_loss: 0.1165 - val_accuracy: 0.9844\n"
     ]
    }
   ],
   "source": [
    "history = model.fit(X_train, y_train, batch_size=64, epochs=40, verbose=1, validation_split=0.2)"
   ]
  },
  {
   "cell_type": "code",
   "execution_count": 38,
   "id": "128b6688",
   "metadata": {},
   "outputs": [],
   "source": [
    "from matplotlib import pyplot as plt"
   ]
  },
  {
   "cell_type": "code",
   "execution_count": 39,
   "id": "2326846e",
   "metadata": {},
   "outputs": [
    {
     "data": {
      "text/plain": [
       "Text(0.5, 1.0, 'loss')"
      ]
     },
     "execution_count": 39,
     "metadata": {},
     "output_type": "execute_result"
    },
    {
     "data": {
      "image/png": "[encoded data removed]",
      "text/plain": [
       "<Figure size 432x288 with 1 Axes>"
      ]
     },
     "metadata": {
      "needs_background": "light"
     },
     "output_type": "display_data"
    }
   ],
   "source": [
    "epochs = history.epoch\n",
    "plt.plot(epochs, history.history['loss']) # blue\n",
    "plt.plot(epochs, history.history['val_loss']) #orange\n",
    "plt.title('loss')"
   ]
  },
  {
   "cell_type": "code",
   "execution_count": 40,
   "id": "b6dfdf76",
   "metadata": {},
   "outputs": [
    {
     "data": {
      "text/plain": [
       "Text(0.5, 1.0, 'accuracy')"
      ]
     },
     "execution_count": 40,
     "metadata": {},
     "output_type": "execute_result"
    },
    {
     "data": {
      "image/png": "[encoded data removed]",
      "text/plain": [
       "<Figure size 432x288 with 1 Axes>"
      ]
     },
     "metadata": {
      "needs_background": "light"
     },
     "output_type": "display_data"
    }
   ],
   "source": [
    "plt.plot(epochs, history.history['accuracy']) #blue\n",
    "plt.plot(epochs, history.history['val_accuracy']) #orange\n",
    "plt.title('accuracy')"
   ]
  },
  {
   "cell_type": "code",
   "execution_count": 41,
   "id": "a3a3a03a",
   "metadata": {},
   "outputs": [
    {
     "name": "stdout",
     "output_type": "stream",
     "text": [
      "3/3 [==============================] - 0s 15ms/step - loss: 0.0999 - accuracy: 0.9781\n"
     ]
    },
    {
     "data": {
      "text/plain": [
       "[0.09994807094335556, 0.9781022071838379]"
      ]
     },
     "execution_count": 41,
     "metadata": {},
     "output_type": "execute_result"
    }
   ],
   "source": [
    "model.evaluate(X_test, y_test, batch_size=64)"
   ]
  },
  {
   "cell_type": "markdown",
   "id": "7e6dcff9",
   "metadata": {},
   "source": [
    "----------------------------------------------------"
   ]
  },
  {
   "cell_type": "markdown",
   "id": "150c5b5e",
   "metadata": {},
   "source": [
    "# METRICS"
   ]
  },
  {
   "cell_type": "code",
   "execution_count": 42,
   "id": "c793a8c7",
   "metadata": {},
   "outputs": [],
   "source": [
    "from sklearn.metrics import classification_report, confusion_matrix, precision_score"
   ]
  },
  {
   "cell_type": "code",
   "execution_count": 43,
   "id": "1c8b789d",
   "metadata": {},
   "outputs": [
    {
     "name": "stdout",
     "output_type": "stream",
     "text": [
      "5/5 [==============================] - 0s 8ms/step\n"
     ]
    },
    {
     "data": {
      "text/plain": [
       "array([[66,  3],\n",
       "       [ 0, 68]], dtype=int64)"
      ]
     },
     "execution_count": 43,
     "metadata": {},
     "output_type": "execute_result"
    }
   ],
   "source": [
    "y_pred = model.predict(X_test)\n",
    "\n",
    "y_pred_new = [int(not(i<0.5)) for i in y_pred]\n",
    "y_test_new = y_test.to_numpy().tolist()\n",
    "\n",
    "\n",
    "confusion_matrix(y_test_new, y_pred_new)"
   ]
  },
  {
   "cell_type": "code",
   "execution_count": 44,
   "id": "fb9a4908",
   "metadata": {},
   "outputs": [
    {
     "data": {
      "text/plain": [
       "'              precision    recall  f1-score   support\\n\\n           0       1.00      0.96      0.98        69\\n           1       0.96      1.00      0.98        68\\n\\n    accuracy                           0.98       137\\n   macro avg       0.98      0.98      0.98       137\\nweighted avg       0.98      0.98      0.98       137\\n'"
      ]
     },
     "execution_count": 44,
     "metadata": {},
     "output_type": "execute_result"
    }
   ],
   "source": [
    "classification_report(y_test_new, y_pred_new)"
   ]
  },
  {
   "cell_type": "code",
   "execution_count": 45,
   "id": "e78474b9",
   "metadata": {},
   "outputs": [
    {
     "data": {
      "text/plain": [
       "0.9577464788732394"
      ]
     },
     "execution_count": 45,
     "metadata": {},
     "output_type": "execute_result"
    }
   ],
   "source": [
    "precision_score(y_test_new, y_pred_new)"
   ]
  }
 ],
 "metadata": {
  "kernelspec": {
   "display_name": "Python 3 (ipykernel)",
   "language": "python",
   "name": "python3"
  },
  "language_info": {
   "codemirror_mode": {
    "name": "ipython",
    "version": 3
   },
   "file_extension": ".py",
   "mimetype": "text/x-python",
   "name": "python",
   "nbconvert_exporter": "python",
   "pygments_lexer": "ipython3",
   "version": "3.9.10"
  }
 },
 "nbformat": 4,
 "nbformat_minor": 5
}
