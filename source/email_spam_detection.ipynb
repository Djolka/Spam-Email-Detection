{
 "cells": [
  {
   "cell_type": "code",
   "execution_count": 76,
   "id": "06e9e74c",
   "metadata": {},
   "outputs": [],
   "source": [
    "import numpy as np\n",
    "import pandas as pd"
   ]
  },
  {
   "cell_type": "markdown",
   "id": "1400aef6",
   "metadata": {},
   "source": [
    "# Load dataset"
   ]
  },
  {
   "cell_type": "code",
   "execution_count": 77,
   "id": "820a38e3",
   "metadata": {},
   "outputs": [
    {
     "data": {
      "text/html": [
       "<div>\n",
       "<style scoped>\n",
       "    .dataframe tbody tr th:only-of-type {\n",
       "        vertical-align: middle;\n",
       "    }\n",
       "\n",
       "    .dataframe tbody tr th {\n",
       "        vertical-align: top;\n",
       "    }\n",
       "\n",
       "    .dataframe thead th {\n",
       "        text-align: right;\n",
       "    }\n",
       "</style>\n",
       "<table border=\"1\" class=\"dataframe\">\n",
       "  <thead>\n",
       "    <tr style=\"text-align: right;\">\n",
       "      <th></th>\n",
       "      <th>text</th>\n",
       "      <th>spam</th>\n",
       "    </tr>\n",
       "  </thead>\n",
       "  <tbody>\n",
       "    <tr>\n",
       "      <th>0</th>\n",
       "      <td>Subject: naturally irresistible your corporate...</td>\n",
       "      <td>1</td>\n",
       "    </tr>\n",
       "    <tr>\n",
       "      <th>1</th>\n",
       "      <td>Subject: the stock trading gunslinger  fanny i...</td>\n",
       "      <td>1</td>\n",
       "    </tr>\n",
       "    <tr>\n",
       "      <th>2</th>\n",
       "      <td>Subject: unbelievable new homes made easy  im ...</td>\n",
       "      <td>1</td>\n",
       "    </tr>\n",
       "    <tr>\n",
       "      <th>3</th>\n",
       "      <td>Subject: 4 color printing special  request add...</td>\n",
       "      <td>1</td>\n",
       "    </tr>\n",
       "    <tr>\n",
       "      <th>4</th>\n",
       "      <td>Subject: do not have money , get software cds ...</td>\n",
       "      <td>1</td>\n",
       "    </tr>\n",
       "    <tr>\n",
       "      <th>...</th>\n",
       "      <td>...</td>\n",
       "      <td>...</td>\n",
       "    </tr>\n",
       "    <tr>\n",
       "      <th>445</th>\n",
       "      <td>Subject: re : visit to houston  fyi  - - - - -...</td>\n",
       "      <td>0</td>\n",
       "    </tr>\n",
       "    <tr>\n",
       "      <th>446</th>\n",
       "      <td>Subject: re : receipts from visit  jim ,  than...</td>\n",
       "      <td>0</td>\n",
       "    </tr>\n",
       "    <tr>\n",
       "      <th>447</th>\n",
       "      <td>Subject: re : enron case study update  wow ! a...</td>\n",
       "      <td>0</td>\n",
       "    </tr>\n",
       "    <tr>\n",
       "      <th>448</th>\n",
       "      <td>Subject: re : interest  david ,  please , call...</td>\n",
       "      <td>0</td>\n",
       "    </tr>\n",
       "    <tr>\n",
       "      <th>449</th>\n",
       "      <td>Subject: news : aurora 5 . 2 update  aurora ve...</td>\n",
       "      <td>0</td>\n",
       "    </tr>\n",
       "  </tbody>\n",
       "</table>\n",
       "<p>450 rows × 2 columns</p>\n",
       "</div>"
      ],
      "text/plain": [
       "                                                  text  spam\n",
       "0    Subject: naturally irresistible your corporate...     1\n",
       "1    Subject: the stock trading gunslinger  fanny i...     1\n",
       "2    Subject: unbelievable new homes made easy  im ...     1\n",
       "3    Subject: 4 color printing special  request add...     1\n",
       "4    Subject: do not have money , get software cds ...     1\n",
       "..                                                 ...   ...\n",
       "445  Subject: re : visit to houston  fyi  - - - - -...     0\n",
       "446  Subject: re : receipts from visit  jim ,  than...     0\n",
       "447  Subject: re : enron case study update  wow ! a...     0\n",
       "448  Subject: re : interest  david ,  please , call...     0\n",
       "449  Subject: news : aurora 5 . 2 update  aurora ve...     0\n",
       "\n",
       "[450 rows x 2 columns]"
      ]
     },
     "execution_count": 77,
     "metadata": {},
     "output_type": "execute_result"
    }
   ],
   "source": [
    "df = pd.read_csv('../dataset/emails.csv')\n",
    "df"
   ]
  },
  {
   "cell_type": "code",
   "execution_count": 78,
   "id": "fa96e095",
   "metadata": {},
   "outputs": [],
   "source": [
    "# count0 = 0\n",
    "# count1 = 0\n",
    "# for i in df['spam']:\n",
    "#     if i == 1:\n",
    "#         count1+=1\n",
    "#     if i == 0:\n",
    "#         count0+=1\n",
    "\n",
    "# print(count0)\n",
    "# print(count1)"
   ]
  },
  {
   "cell_type": "code",
   "execution_count": 79,
   "id": "0c40f26f",
   "metadata": {},
   "outputs": [
    {
     "data": {
      "text/plain": [
       "(450, 2)"
      ]
     },
     "execution_count": 79,
     "metadata": {},
     "output_type": "execute_result"
    }
   ],
   "source": [
    "df.shape"
   ]
  },
  {
   "cell_type": "code",
   "execution_count": 80,
   "id": "6507b1ac",
   "metadata": {},
   "outputs": [
    {
     "data": {
      "text/plain": [
       "Index(['text', 'spam'], dtype='object')"
      ]
     },
     "execution_count": 80,
     "metadata": {},
     "output_type": "execute_result"
    }
   ],
   "source": [
    "df.columns"
   ]
  },
  {
   "cell_type": "markdown",
   "id": "8b7321a1",
   "metadata": {},
   "source": [
    "# Preprocessing data"
   ]
  },
  {
   "cell_type": "code",
   "execution_count": 81,
   "id": "1c588688",
   "metadata": {},
   "outputs": [],
   "source": [
    "df.drop_duplicates(inplace=True)"
   ]
  },
  {
   "cell_type": "code",
   "execution_count": 82,
   "id": "ea89ec46",
   "metadata": {},
   "outputs": [
    {
     "data": {
      "text/plain": [
       "(450, 2)"
      ]
     },
     "execution_count": 82,
     "metadata": {},
     "output_type": "execute_result"
    }
   ],
   "source": [
    "df.shape"
   ]
  },
  {
   "cell_type": "code",
   "execution_count": 83,
   "id": "a1aa3621",
   "metadata": {},
   "outputs": [
    {
     "data": {
      "text/plain": [
       "text    0\n",
       "spam    0\n",
       "dtype: int64"
      ]
     },
     "execution_count": 83,
     "metadata": {},
     "output_type": "execute_result"
    }
   ],
   "source": [
    "df.isnull().sum()"
   ]
  },
  {
   "cell_type": "code",
   "execution_count": 84,
   "id": "351b1b20",
   "metadata": {
    "scrolled": true
   },
   "outputs": [
    {
     "data": {
      "text/plain": [
       "0      Subject: naturally irresistible your corporate...\n",
       "1      Subject: the stock trading gunslinger  fanny i...\n",
       "2      Subject: unbelievable new homes made easy  im ...\n",
       "3      Subject: 4 color printing special  request add...\n",
       "4      Subject: do not have money , get software cds ...\n",
       "                             ...                        \n",
       "445    Subject: re : visit to houston  fyi  - - - - -...\n",
       "446    Subject: re : receipts from visit  jim ,  than...\n",
       "447    Subject: re : enron case study update  wow ! a...\n",
       "448    Subject: re : interest  david ,  please , call...\n",
       "449    Subject: news : aurora 5 . 2 update  aurora ve...\n",
       "Name: text, Length: 450, dtype: object"
      ]
     },
     "execution_count": 84,
     "metadata": {},
     "output_type": "execute_result"
    }
   ],
   "source": [
    "X = df['text']\n",
    "X"
   ]
  },
  {
   "cell_type": "code",
   "execution_count": 85,
   "id": "60c986aa",
   "metadata": {},
   "outputs": [
    {
     "data": {
      "text/plain": [
       "0      1\n",
       "1      1\n",
       "2      1\n",
       "3      1\n",
       "4      1\n",
       "      ..\n",
       "445    0\n",
       "446    0\n",
       "447    0\n",
       "448    0\n",
       "449    0\n",
       "Name: spam, Length: 450, dtype: int64"
      ]
     },
     "execution_count": 85,
     "metadata": {},
     "output_type": "execute_result"
    }
   ],
   "source": [
    "y = df['spam']\n",
    "y"
   ]
  },
  {
   "cell_type": "markdown",
   "id": "680198fb",
   "metadata": {},
   "source": [
    " -------------------------------------------------------"
   ]
  },
  {
   "cell_type": "markdown",
   "id": "9ac74f61",
   "metadata": {},
   "source": [
    "# CountVectorizer"
   ]
  },
  {
   "cell_type": "code",
   "execution_count": 254,
   "id": "cdc7c26e",
   "metadata": {},
   "outputs": [],
   "source": [
    "# from sklearn.feature_extraction.text import CountVectorizer"
   ]
  },
  {
   "cell_type": "code",
   "execution_count": 255,
   "id": "25147f2f",
   "metadata": {},
   "outputs": [],
   "source": [
    "# cv = CountVectorizer()"
   ]
  },
  {
   "cell_type": "code",
   "execution_count": 256,
   "id": "5bd7abcd",
   "metadata": {},
   "outputs": [],
   "source": [
    "# X = cv.fit_transform(X)"
   ]
  },
  {
   "cell_type": "code",
   "execution_count": 257,
   "id": "d48e2cc9",
   "metadata": {},
   "outputs": [],
   "source": [
    "# cv.get_feature_names_out()"
   ]
  },
  {
   "cell_type": "code",
   "execution_count": 258,
   "id": "72d67ff9",
   "metadata": {},
   "outputs": [],
   "source": [
    "# my_df = pd.DataFrame(data=X.toarray(), columns=cv.get_feature_names_out())"
   ]
  },
  {
   "cell_type": "code",
   "execution_count": 259,
   "id": "3e4537f8",
   "metadata": {},
   "outputs": [],
   "source": [
    "# my_df['isSpam'] = y.tolist()"
   ]
  },
  {
   "cell_type": "code",
   "execution_count": 260,
   "id": "0a0bef79",
   "metadata": {},
   "outputs": [],
   "source": [
    "# my_df"
   ]
  },
  {
   "cell_type": "code",
   "execution_count": 261,
   "id": "49bcfda7",
   "metadata": {},
   "outputs": [],
   "source": [
    "# X = pd.DataFrame(X.toarray()) # konverzija u DataFrame"
   ]
  },
  {
   "cell_type": "markdown",
   "id": "54a6a4da",
   "metadata": {},
   "source": [
    "--------------------------------------------------------------"
   ]
  },
  {
   "cell_type": "markdown",
   "id": "5f9ec5f3",
   "metadata": {},
   "source": [
    "# TF-IDF matrix"
   ]
  },
  {
   "cell_type": "code",
   "execution_count": 42,
   "id": "72e50c8b",
   "metadata": {},
   "outputs": [],
   "source": [
    "from sklearn.feature_extraction.text import TfidfVectorizer"
   ]
  },
  {
   "cell_type": "code",
   "execution_count": 43,
   "id": "1580eec7",
   "metadata": {},
   "outputs": [],
   "source": [
    "tf = TfidfVectorizer(max_df=0.8) # ignore terms that appear in more than 80% of the documents"
   ]
  },
  {
   "cell_type": "code",
   "execution_count": 44,
   "id": "9ccd7f45",
   "metadata": {},
   "outputs": [],
   "source": [
    "X = tf.fit_transform(X)"
   ]
  },
  {
   "cell_type": "code",
   "execution_count": 45,
   "id": "4d3c6314",
   "metadata": {},
   "outputs": [
    {
     "data": {
      "text/plain": [
       "array(['00', '000', '0000', ..., 'zwlaszcza', 'zxghlajf', 'zzzz'],\n",
       "      dtype=object)"
      ]
     },
     "execution_count": 45,
     "metadata": {},
     "output_type": "execute_result"
    }
   ],
   "source": [
    "tf.get_feature_names_out()"
   ]
  },
  {
   "cell_type": "code",
   "execution_count": 46,
   "id": "2a345a55",
   "metadata": {},
   "outputs": [],
   "source": [
    "my_df = pd.DataFrame(data=X.toarray(), columns = tf.get_feature_names_out())"
   ]
  },
  {
   "cell_type": "code",
   "execution_count": 47,
   "id": "d089e5e4",
   "metadata": {},
   "outputs": [],
   "source": [
    "my_df['isSpam'] = y.tolist()"
   ]
  },
  {
   "cell_type": "code",
   "execution_count": 48,
   "id": "382497b1",
   "metadata": {},
   "outputs": [
    {
     "data": {
      "text/plain": [
       "Index(['00', '000', '0000', '00000000', '000000000003991', '000000000005411',\n",
       "       '0001', '0011', '00225', '0044',\n",
       "       ...\n",
       "       'znalazlam', 'zones', 'zoolant', 'zrobic', 'zrobilem', 'zulkifli',\n",
       "       'zwlaszcza', 'zxghlajf', 'zzzz', 'isSpam'],\n",
       "      dtype='object', length=11268)"
      ]
     },
     "execution_count": 48,
     "metadata": {},
     "output_type": "execute_result"
    }
   ],
   "source": [
    "my_df.columns"
   ]
  },
  {
   "cell_type": "code",
   "execution_count": 49,
   "id": "7f8deb77",
   "metadata": {},
   "outputs": [
    {
     "data": {
      "text/html": [
       "<div>\n",
       "<style scoped>\n",
       "    .dataframe tbody tr th:only-of-type {\n",
       "        vertical-align: middle;\n",
       "    }\n",
       "\n",
       "    .dataframe tbody tr th {\n",
       "        vertical-align: top;\n",
       "    }\n",
       "\n",
       "    .dataframe thead th {\n",
       "        text-align: right;\n",
       "    }\n",
       "</style>\n",
       "<table border=\"1\" class=\"dataframe\">\n",
       "  <thead>\n",
       "    <tr style=\"text-align: right;\">\n",
       "      <th></th>\n",
       "      <th>00</th>\n",
       "      <th>000</th>\n",
       "      <th>0000</th>\n",
       "      <th>00000000</th>\n",
       "      <th>000000000003991</th>\n",
       "      <th>000000000005411</th>\n",
       "      <th>0001</th>\n",
       "      <th>0011</th>\n",
       "      <th>00225</th>\n",
       "      <th>0044</th>\n",
       "      <th>...</th>\n",
       "      <th>znalazlam</th>\n",
       "      <th>zones</th>\n",
       "      <th>zoolant</th>\n",
       "      <th>zrobic</th>\n",
       "      <th>zrobilem</th>\n",
       "      <th>zulkifli</th>\n",
       "      <th>zwlaszcza</th>\n",
       "      <th>zxghlajf</th>\n",
       "      <th>zzzz</th>\n",
       "      <th>isSpam</th>\n",
       "    </tr>\n",
       "  </thead>\n",
       "  <tbody>\n",
       "    <tr>\n",
       "      <th>0</th>\n",
       "      <td>0.000000</td>\n",
       "      <td>0.0</td>\n",
       "      <td>0.0</td>\n",
       "      <td>0.0</td>\n",
       "      <td>0.0</td>\n",
       "      <td>0.0</td>\n",
       "      <td>0.0</td>\n",
       "      <td>0.0</td>\n",
       "      <td>0.0</td>\n",
       "      <td>0.0</td>\n",
       "      <td>...</td>\n",
       "      <td>0.0</td>\n",
       "      <td>0.0</td>\n",
       "      <td>0.0</td>\n",
       "      <td>0.0</td>\n",
       "      <td>0.0</td>\n",
       "      <td>0.0</td>\n",
       "      <td>0.0</td>\n",
       "      <td>0.0</td>\n",
       "      <td>0.0</td>\n",
       "      <td>1</td>\n",
       "    </tr>\n",
       "    <tr>\n",
       "      <th>1</th>\n",
       "      <td>0.000000</td>\n",
       "      <td>0.0</td>\n",
       "      <td>0.0</td>\n",
       "      <td>0.0</td>\n",
       "      <td>0.0</td>\n",
       "      <td>0.0</td>\n",
       "      <td>0.0</td>\n",
       "      <td>0.0</td>\n",
       "      <td>0.0</td>\n",
       "      <td>0.0</td>\n",
       "      <td>...</td>\n",
       "      <td>0.0</td>\n",
       "      <td>0.0</td>\n",
       "      <td>0.0</td>\n",
       "      <td>0.0</td>\n",
       "      <td>0.0</td>\n",
       "      <td>0.0</td>\n",
       "      <td>0.0</td>\n",
       "      <td>0.0</td>\n",
       "      <td>0.0</td>\n",
       "      <td>1</td>\n",
       "    </tr>\n",
       "    <tr>\n",
       "      <th>2</th>\n",
       "      <td>0.000000</td>\n",
       "      <td>0.0</td>\n",
       "      <td>0.0</td>\n",
       "      <td>0.0</td>\n",
       "      <td>0.0</td>\n",
       "      <td>0.0</td>\n",
       "      <td>0.0</td>\n",
       "      <td>0.0</td>\n",
       "      <td>0.0</td>\n",
       "      <td>0.0</td>\n",
       "      <td>...</td>\n",
       "      <td>0.0</td>\n",
       "      <td>0.0</td>\n",
       "      <td>0.0</td>\n",
       "      <td>0.0</td>\n",
       "      <td>0.0</td>\n",
       "      <td>0.0</td>\n",
       "      <td>0.0</td>\n",
       "      <td>0.0</td>\n",
       "      <td>0.0</td>\n",
       "      <td>1</td>\n",
       "    </tr>\n",
       "    <tr>\n",
       "      <th>3</th>\n",
       "      <td>0.000000</td>\n",
       "      <td>0.0</td>\n",
       "      <td>0.0</td>\n",
       "      <td>0.0</td>\n",
       "      <td>0.0</td>\n",
       "      <td>0.0</td>\n",
       "      <td>0.0</td>\n",
       "      <td>0.0</td>\n",
       "      <td>0.0</td>\n",
       "      <td>0.0</td>\n",
       "      <td>...</td>\n",
       "      <td>0.0</td>\n",
       "      <td>0.0</td>\n",
       "      <td>0.0</td>\n",
       "      <td>0.0</td>\n",
       "      <td>0.0</td>\n",
       "      <td>0.0</td>\n",
       "      <td>0.0</td>\n",
       "      <td>0.0</td>\n",
       "      <td>0.0</td>\n",
       "      <td>1</td>\n",
       "    </tr>\n",
       "    <tr>\n",
       "      <th>4</th>\n",
       "      <td>0.000000</td>\n",
       "      <td>0.0</td>\n",
       "      <td>0.0</td>\n",
       "      <td>0.0</td>\n",
       "      <td>0.0</td>\n",
       "      <td>0.0</td>\n",
       "      <td>0.0</td>\n",
       "      <td>0.0</td>\n",
       "      <td>0.0</td>\n",
       "      <td>0.0</td>\n",
       "      <td>...</td>\n",
       "      <td>0.0</td>\n",
       "      <td>0.0</td>\n",
       "      <td>0.0</td>\n",
       "      <td>0.0</td>\n",
       "      <td>0.0</td>\n",
       "      <td>0.0</td>\n",
       "      <td>0.0</td>\n",
       "      <td>0.0</td>\n",
       "      <td>0.0</td>\n",
       "      <td>1</td>\n",
       "    </tr>\n",
       "    <tr>\n",
       "      <th>...</th>\n",
       "      <td>...</td>\n",
       "      <td>...</td>\n",
       "      <td>...</td>\n",
       "      <td>...</td>\n",
       "      <td>...</td>\n",
       "      <td>...</td>\n",
       "      <td>...</td>\n",
       "      <td>...</td>\n",
       "      <td>...</td>\n",
       "      <td>...</td>\n",
       "      <td>...</td>\n",
       "      <td>...</td>\n",
       "      <td>...</td>\n",
       "      <td>...</td>\n",
       "      <td>...</td>\n",
       "      <td>...</td>\n",
       "      <td>...</td>\n",
       "      <td>...</td>\n",
       "      <td>...</td>\n",
       "      <td>...</td>\n",
       "      <td>...</td>\n",
       "    </tr>\n",
       "    <tr>\n",
       "      <th>445</th>\n",
       "      <td>0.000000</td>\n",
       "      <td>0.0</td>\n",
       "      <td>0.0</td>\n",
       "      <td>0.0</td>\n",
       "      <td>0.0</td>\n",
       "      <td>0.0</td>\n",
       "      <td>0.0</td>\n",
       "      <td>0.0</td>\n",
       "      <td>0.0</td>\n",
       "      <td>0.0</td>\n",
       "      <td>...</td>\n",
       "      <td>0.0</td>\n",
       "      <td>0.0</td>\n",
       "      <td>0.0</td>\n",
       "      <td>0.0</td>\n",
       "      <td>0.0</td>\n",
       "      <td>0.0</td>\n",
       "      <td>0.0</td>\n",
       "      <td>0.0</td>\n",
       "      <td>0.0</td>\n",
       "      <td>0</td>\n",
       "    </tr>\n",
       "    <tr>\n",
       "      <th>446</th>\n",
       "      <td>0.035799</td>\n",
       "      <td>0.0</td>\n",
       "      <td>0.0</td>\n",
       "      <td>0.0</td>\n",
       "      <td>0.0</td>\n",
       "      <td>0.0</td>\n",
       "      <td>0.0</td>\n",
       "      <td>0.0</td>\n",
       "      <td>0.0</td>\n",
       "      <td>0.0</td>\n",
       "      <td>...</td>\n",
       "      <td>0.0</td>\n",
       "      <td>0.0</td>\n",
       "      <td>0.0</td>\n",
       "      <td>0.0</td>\n",
       "      <td>0.0</td>\n",
       "      <td>0.0</td>\n",
       "      <td>0.0</td>\n",
       "      <td>0.0</td>\n",
       "      <td>0.0</td>\n",
       "      <td>0</td>\n",
       "    </tr>\n",
       "    <tr>\n",
       "      <th>447</th>\n",
       "      <td>0.116495</td>\n",
       "      <td>0.0</td>\n",
       "      <td>0.0</td>\n",
       "      <td>0.0</td>\n",
       "      <td>0.0</td>\n",
       "      <td>0.0</td>\n",
       "      <td>0.0</td>\n",
       "      <td>0.0</td>\n",
       "      <td>0.0</td>\n",
       "      <td>0.0</td>\n",
       "      <td>...</td>\n",
       "      <td>0.0</td>\n",
       "      <td>0.0</td>\n",
       "      <td>0.0</td>\n",
       "      <td>0.0</td>\n",
       "      <td>0.0</td>\n",
       "      <td>0.0</td>\n",
       "      <td>0.0</td>\n",
       "      <td>0.0</td>\n",
       "      <td>0.0</td>\n",
       "      <td>0</td>\n",
       "    </tr>\n",
       "    <tr>\n",
       "      <th>448</th>\n",
       "      <td>0.000000</td>\n",
       "      <td>0.0</td>\n",
       "      <td>0.0</td>\n",
       "      <td>0.0</td>\n",
       "      <td>0.0</td>\n",
       "      <td>0.0</td>\n",
       "      <td>0.0</td>\n",
       "      <td>0.0</td>\n",
       "      <td>0.0</td>\n",
       "      <td>0.0</td>\n",
       "      <td>...</td>\n",
       "      <td>0.0</td>\n",
       "      <td>0.0</td>\n",
       "      <td>0.0</td>\n",
       "      <td>0.0</td>\n",
       "      <td>0.0</td>\n",
       "      <td>0.0</td>\n",
       "      <td>0.0</td>\n",
       "      <td>0.0</td>\n",
       "      <td>0.0</td>\n",
       "      <td>0</td>\n",
       "    </tr>\n",
       "    <tr>\n",
       "      <th>449</th>\n",
       "      <td>0.000000</td>\n",
       "      <td>0.0</td>\n",
       "      <td>0.0</td>\n",
       "      <td>0.0</td>\n",
       "      <td>0.0</td>\n",
       "      <td>0.0</td>\n",
       "      <td>0.0</td>\n",
       "      <td>0.0</td>\n",
       "      <td>0.0</td>\n",
       "      <td>0.0</td>\n",
       "      <td>...</td>\n",
       "      <td>0.0</td>\n",
       "      <td>0.0</td>\n",
       "      <td>0.0</td>\n",
       "      <td>0.0</td>\n",
       "      <td>0.0</td>\n",
       "      <td>0.0</td>\n",
       "      <td>0.0</td>\n",
       "      <td>0.0</td>\n",
       "      <td>0.0</td>\n",
       "      <td>0</td>\n",
       "    </tr>\n",
       "  </tbody>\n",
       "</table>\n",
       "<p>450 rows × 11268 columns</p>\n",
       "</div>"
      ],
      "text/plain": [
       "           00  000  0000  00000000  000000000003991  000000000005411  0001  \\\n",
       "0    0.000000  0.0   0.0       0.0              0.0              0.0   0.0   \n",
       "1    0.000000  0.0   0.0       0.0              0.0              0.0   0.0   \n",
       "2    0.000000  0.0   0.0       0.0              0.0              0.0   0.0   \n",
       "3    0.000000  0.0   0.0       0.0              0.0              0.0   0.0   \n",
       "4    0.000000  0.0   0.0       0.0              0.0              0.0   0.0   \n",
       "..        ...  ...   ...       ...              ...              ...   ...   \n",
       "445  0.000000  0.0   0.0       0.0              0.0              0.0   0.0   \n",
       "446  0.035799  0.0   0.0       0.0              0.0              0.0   0.0   \n",
       "447  0.116495  0.0   0.0       0.0              0.0              0.0   0.0   \n",
       "448  0.000000  0.0   0.0       0.0              0.0              0.0   0.0   \n",
       "449  0.000000  0.0   0.0       0.0              0.0              0.0   0.0   \n",
       "\n",
       "     0011  00225  0044  ...  znalazlam  zones  zoolant  zrobic  zrobilem  \\\n",
       "0     0.0    0.0   0.0  ...        0.0    0.0      0.0     0.0       0.0   \n",
       "1     0.0    0.0   0.0  ...        0.0    0.0      0.0     0.0       0.0   \n",
       "2     0.0    0.0   0.0  ...        0.0    0.0      0.0     0.0       0.0   \n",
       "3     0.0    0.0   0.0  ...        0.0    0.0      0.0     0.0       0.0   \n",
       "4     0.0    0.0   0.0  ...        0.0    0.0      0.0     0.0       0.0   \n",
       "..    ...    ...   ...  ...        ...    ...      ...     ...       ...   \n",
       "445   0.0    0.0   0.0  ...        0.0    0.0      0.0     0.0       0.0   \n",
       "446   0.0    0.0   0.0  ...        0.0    0.0      0.0     0.0       0.0   \n",
       "447   0.0    0.0   0.0  ...        0.0    0.0      0.0     0.0       0.0   \n",
       "448   0.0    0.0   0.0  ...        0.0    0.0      0.0     0.0       0.0   \n",
       "449   0.0    0.0   0.0  ...        0.0    0.0      0.0     0.0       0.0   \n",
       "\n",
       "     zulkifli  zwlaszcza  zxghlajf  zzzz  isSpam  \n",
       "0         0.0        0.0       0.0   0.0       1  \n",
       "1         0.0        0.0       0.0   0.0       1  \n",
       "2         0.0        0.0       0.0   0.0       1  \n",
       "3         0.0        0.0       0.0   0.0       1  \n",
       "4         0.0        0.0       0.0   0.0       1  \n",
       "..        ...        ...       ...   ...     ...  \n",
       "445       0.0        0.0       0.0   0.0       0  \n",
       "446       0.0        0.0       0.0   0.0       0  \n",
       "447       0.0        0.0       0.0   0.0       0  \n",
       "448       0.0        0.0       0.0   0.0       0  \n",
       "449       0.0        0.0       0.0   0.0       0  \n",
       "\n",
       "[450 rows x 11268 columns]"
      ]
     },
     "execution_count": 49,
     "metadata": {},
     "output_type": "execute_result"
    }
   ],
   "source": [
    "my_df"
   ]
  },
  {
   "cell_type": "code",
   "execution_count": null,
   "id": "a7aa6392",
   "metadata": {},
   "outputs": [],
   "source": []
  },
  {
   "cell_type": "code",
   "execution_count": 50,
   "id": "491e1f66",
   "metadata": {},
   "outputs": [],
   "source": [
    "X = pd.DataFrame(X.toarray()) # konverzija u DataFrame"
   ]
  },
  {
   "cell_type": "markdown",
   "id": "9004fcf4",
   "metadata": {},
   "source": [
    "----------------------------------------------"
   ]
  },
  {
   "cell_type": "code",
   "execution_count": 86,
   "id": "0ff497e3",
   "metadata": {},
   "outputs": [
    {
     "data": {
      "text/html": [
       "<div>\n",
       "<style scoped>\n",
       "    .dataframe tbody tr th:only-of-type {\n",
       "        vertical-align: middle;\n",
       "    }\n",
       "\n",
       "    .dataframe tbody tr th {\n",
       "        vertical-align: top;\n",
       "    }\n",
       "\n",
       "    .dataframe thead th {\n",
       "        text-align: right;\n",
       "    }\n",
       "</style>\n",
       "<table border=\"1\" class=\"dataframe\">\n",
       "  <thead>\n",
       "    <tr style=\"text-align: right;\">\n",
       "      <th></th>\n",
       "      <th>text</th>\n",
       "      <th>spam</th>\n",
       "      <th>clean message</th>\n",
       "    </tr>\n",
       "  </thead>\n",
       "  <tbody>\n",
       "    <tr>\n",
       "      <th>0</th>\n",
       "      <td>Subject: naturally irresistible your corporate...</td>\n",
       "      <td>1</td>\n",
       "      <td>[subject, naturally, irresistible, your, corpo...</td>\n",
       "    </tr>\n",
       "    <tr>\n",
       "      <th>1</th>\n",
       "      <td>Subject: the stock trading gunslinger  fanny i...</td>\n",
       "      <td>1</td>\n",
       "      <td>[subject, the, stock, trading, gunslinger, fan...</td>\n",
       "    </tr>\n",
       "    <tr>\n",
       "      <th>2</th>\n",
       "      <td>Subject: unbelievable new homes made easy  im ...</td>\n",
       "      <td>1</td>\n",
       "      <td>[subject, unbelievable, new, homes, made, easy...</td>\n",
       "    </tr>\n",
       "    <tr>\n",
       "      <th>3</th>\n",
       "      <td>Subject: 4 color printing special  request add...</td>\n",
       "      <td>1</td>\n",
       "      <td>[subject, color, printing, special, request, a...</td>\n",
       "    </tr>\n",
       "    <tr>\n",
       "      <th>4</th>\n",
       "      <td>Subject: do not have money , get software cds ...</td>\n",
       "      <td>1</td>\n",
       "      <td>[subject, do, not, have, money, get, software,...</td>\n",
       "    </tr>\n",
       "  </tbody>\n",
       "</table>\n",
       "</div>"
      ],
      "text/plain": [
       "                                                text  spam  \\\n",
       "0  Subject: naturally irresistible your corporate...     1   \n",
       "1  Subject: the stock trading gunslinger  fanny i...     1   \n",
       "2  Subject: unbelievable new homes made easy  im ...     1   \n",
       "3  Subject: 4 color printing special  request add...     1   \n",
       "4  Subject: do not have money , get software cds ...     1   \n",
       "\n",
       "                                       clean message  \n",
       "0  [subject, naturally, irresistible, your, corpo...  \n",
       "1  [subject, the, stock, trading, gunslinger, fan...  \n",
       "2  [subject, unbelievable, new, homes, made, easy...  \n",
       "3  [subject, color, printing, special, request, a...  \n",
       "4  [subject, do, not, have, money, get, software,...  "
      ]
     },
     "execution_count": 86,
     "metadata": {},
     "output_type": "execute_result"
    }
   ],
   "source": [
    "import gensim\n",
    "\n",
    "df['clean message'] = X.apply(lambda x: gensim.utils.simple_preprocess(x))\n",
    "df.head()"
   ]
  },
  {
   "cell_type": "markdown",
   "id": "ddf347ba",
   "metadata": {},
   "source": [
    "-------------------------------------------------------"
   ]
  },
  {
   "cell_type": "markdown",
   "id": "b0a499a1",
   "metadata": {},
   "source": [
    "# Train test split"
   ]
  },
  {
   "cell_type": "code",
   "execution_count": 87,
   "id": "b3b52eac",
   "metadata": {},
   "outputs": [],
   "source": [
    "from sklearn.model_selection import train_test_split"
   ]
  },
  {
   "cell_type": "code",
   "execution_count": 88,
   "id": "d80060b9",
   "metadata": {},
   "outputs": [],
   "source": [
    "X_train, X_test, y_train, y_test = train_test_split(df['clean message'], y, test_size=0.2, random_state=42, stratify=y)\n",
    "# X_train, X_test, y_train, y_test = train_test_split(X, y, test_size=0.25, random_state=42, stratify=y)"
   ]
  },
  {
   "cell_type": "code",
   "execution_count": 89,
   "id": "14a6a5a9",
   "metadata": {},
   "outputs": [
    {
     "data": {
      "text/plain": [
       "(360,)"
      ]
     },
     "execution_count": 89,
     "metadata": {},
     "output_type": "execute_result"
    }
   ],
   "source": [
    "X_train.shape"
   ]
  },
  {
   "cell_type": "code",
   "execution_count": 90,
   "id": "30bc0642",
   "metadata": {
    "scrolled": true
   },
   "outputs": [
    {
     "data": {
      "text/plain": [
       "(90,)"
      ]
     },
     "execution_count": 90,
     "metadata": {},
     "output_type": "execute_result"
    }
   ],
   "source": [
    "X_test.shape"
   ]
  },
  {
   "cell_type": "markdown",
   "id": "42e51ab7",
   "metadata": {},
   "source": [
    "# Word2vector"
   ]
  },
  {
   "cell_type": "code",
   "execution_count": 179,
   "id": "121a6aa9",
   "metadata": {},
   "outputs": [],
   "source": [
    "w2v_model = gensim.models.Word2Vec(X_train,\n",
    "                                   vector_size=200,\n",
    "                                   window=700,\n",
    "                                   min_count=5)"
   ]
  },
  {
   "cell_type": "code",
   "execution_count": 180,
   "id": "795b5165",
   "metadata": {},
   "outputs": [],
   "source": [
    "words = set(w2v_model.wv.index_to_key )\n",
    "X_train_vect = np.array([np.array([w2v_model.wv[i] for i in ls if i in words])\n",
    "                         for ls in X_train], dtype=object)\n",
    "X_test_vect = np.array([np.array([w2v_model.wv[i] for i in ls if i in words])\n",
    "                         for ls in X_test], dtype=object)"
   ]
  },
  {
   "cell_type": "code",
   "execution_count": 181,
   "id": "263c8d5e",
   "metadata": {},
   "outputs": [
    {
     "name": "stdout",
     "output_type": "stream",
     "text": [
      "69 62\n",
      "474 417\n",
      "75 72\n",
      "100 74\n",
      "832 764\n",
      "312 286\n",
      "18 14\n",
      "324 279\n",
      "217 186\n",
      "284 210\n",
      "278 251\n",
      "67 30\n",
      "2209 2030\n",
      "168 145\n",
      "97 82\n",
      "126 115\n",
      "210 181\n",
      "1445 1203\n",
      "82 70\n",
      "108 105\n",
      "342 286\n",
      "132 109\n",
      "12 8\n",
      "45 35\n",
      "73 63\n",
      "618 529\n",
      "184 165\n",
      "28 24\n",
      "115 102\n",
      "96 84\n",
      "60 46\n",
      "78 75\n",
      "61 48\n",
      "52 44\n",
      "105 98\n",
      "126 116\n",
      "35 33\n",
      "226 210\n",
      "218 174\n",
      "44 32\n",
      "106 88\n",
      "471 427\n",
      "500 432\n",
      "382 342\n",
      "133 93\n",
      "78 77\n",
      "21 16\n",
      "171 131\n",
      "62 56\n",
      "64 57\n",
      "262 246\n",
      "72 66\n",
      "252 217\n",
      "131 113\n",
      "159 135\n",
      "78 73\n",
      "35 32\n",
      "309 231\n",
      "103 91\n",
      "52 40\n",
      "56 50\n",
      "141 134\n",
      "74 69\n",
      "120 88\n",
      "61 27\n",
      "80 72\n",
      "257 227\n",
      "335 272\n",
      "182 144\n",
      "45 40\n",
      "168 139\n",
      "28 20\n",
      "168 149\n",
      "199 179\n",
      "55 51\n",
      "267 241\n",
      "451 426\n",
      "82 74\n",
      "50 40\n",
      "199 186\n",
      "9 8\n",
      "136 112\n",
      "1118 941\n",
      "2064 1781\n",
      "27 22\n",
      "193 156\n",
      "34 32\n",
      "41 31\n",
      "156 142\n",
      "182 174\n",
      "138 124\n",
      "137 126\n",
      "80 69\n",
      "83 76\n",
      "2644 2382\n",
      "119 106\n",
      "223 204\n",
      "1143 962\n",
      "99 90\n",
      "53 46\n",
      "85 66\n",
      "346 283\n",
      "206 190\n",
      "215 190\n",
      "163 124\n",
      "56 46\n",
      "402 349\n",
      "326 283\n",
      "82 72\n",
      "84 73\n",
      "80 72\n",
      "180 150\n",
      "78 73\n",
      "64 58\n",
      "611 540\n",
      "175 158\n",
      "145 122\n",
      "641 587\n",
      "137 101\n",
      "106 89\n",
      "307 225\n",
      "194 179\n",
      "73 55\n",
      "40 29\n",
      "148 127\n",
      "86 76\n",
      "278 212\n",
      "100 86\n",
      "34 29\n",
      "130 118\n",
      "59 44\n",
      "61 30\n",
      "67 61\n",
      "61 28\n",
      "399 339\n",
      "296 280\n",
      "37 30\n",
      "278 260\n",
      "157 146\n",
      "11 4\n",
      "27 23\n",
      "308 273\n",
      "355 315\n",
      "458 400\n",
      "182 171\n",
      "167 159\n",
      "459 396\n",
      "235 217\n",
      "272 247\n",
      "137 99\n",
      "76 66\n",
      "61 50\n",
      "140 123\n",
      "86 77\n",
      "810 745\n",
      "196 183\n",
      "94 72\n",
      "29 26\n",
      "127 119\n",
      "179 168\n",
      "235 194\n",
      "37 25\n",
      "32 30\n",
      "72 61\n",
      "476 408\n",
      "78 72\n",
      "57 41\n",
      "196 184\n",
      "170 142\n",
      "180 171\n",
      "80 70\n",
      "83 75\n",
      "282 114\n",
      "781 681\n",
      "262 227\n",
      "198 176\n",
      "295 236\n",
      "1336 1226\n",
      "108 82\n",
      "387 347\n",
      "275 259\n",
      "586 531\n",
      "493 414\n",
      "105 94\n",
      "88 81\n",
      "182 171\n",
      "129 117\n",
      "61 49\n",
      "84 79\n",
      "149 121\n",
      "107 95\n",
      "80 72\n",
      "83 74\n",
      "32 24\n",
      "67 30\n",
      "976 880\n",
      "31 28\n",
      "81 76\n",
      "354 268\n",
      "62 51\n",
      "243 207\n",
      "37 17\n",
      "169 150\n",
      "800 692\n",
      "106 92\n",
      "193 172\n",
      "216 191\n",
      "56 46\n",
      "216 200\n",
      "206 160\n",
      "110 101\n",
      "203 170\n",
      "27 22\n",
      "45 34\n",
      "80 70\n",
      "103 87\n",
      "322 304\n",
      "160 139\n",
      "78 70\n",
      "208 192\n",
      "161 136\n",
      "360 320\n",
      "1181 1023\n",
      "41 33\n",
      "106 90\n",
      "134 105\n",
      "87 73\n",
      "59 24\n",
      "24 21\n",
      "19 18\n",
      "129 119\n",
      "63 29\n",
      "67 52\n",
      "87 53\n",
      "257 234\n",
      "270 259\n",
      "182 153\n",
      "331 307\n",
      "47 38\n",
      "108 92\n",
      "139 129\n",
      "89 77\n",
      "78 76\n",
      "164 129\n",
      "104 98\n",
      "1341 1147\n",
      "346 288\n",
      "261 245\n",
      "69 48\n",
      "245 219\n",
      "102 85\n",
      "314 265\n",
      "95 66\n",
      "158 136\n",
      "67 63\n",
      "64 33\n",
      "59 54\n",
      "481 458\n",
      "28 27\n",
      "12 8\n",
      "141 127\n",
      "246 38\n",
      "100 76\n",
      "56 45\n",
      "182 165\n",
      "125 122\n",
      "46 39\n",
      "84 70\n",
      "64 49\n",
      "446 409\n",
      "17 10\n",
      "71 61\n",
      "189 170\n",
      "80 80\n",
      "78 63\n",
      "81 70\n",
      "209 195\n",
      "13 10\n",
      "78 77\n",
      "254 206\n",
      "81 59\n",
      "116 93\n",
      "361 308\n",
      "106 92\n",
      "82 71\n",
      "258 234\n",
      "113 103\n",
      "27 23\n",
      "80 74\n",
      "433 359\n",
      "211 190\n",
      "352 289\n",
      "107 101\n",
      "153 138\n",
      "58 54\n",
      "244 225\n",
      "2632 2184\n",
      "191 164\n",
      "156 139\n",
      "55 35\n",
      "1262 1088\n",
      "179 164\n",
      "323 300\n",
      "160 123\n",
      "210 188\n",
      "1396 1227\n",
      "119 85\n",
      "182 170\n",
      "33 30\n",
      "390 333\n",
      "189 176\n",
      "273 260\n",
      "457 384\n",
      "74 68\n",
      "42 37\n",
      "1071 955\n",
      "169 152\n",
      "422 388\n",
      "62 54\n",
      "147 126\n",
      "59 51\n",
      "498 448\n",
      "62 56\n",
      "2690 2262\n",
      "73 68\n",
      "58 49\n",
      "76 69\n",
      "101 79\n",
      "106 96\n",
      "35 31\n",
      "141 121\n",
      "291 253\n",
      "628 503\n",
      "42 37\n",
      "38 32\n",
      "38 32\n",
      "100 75\n",
      "110 98\n",
      "158 144\n",
      "144 128\n",
      "56 40\n",
      "121 109\n",
      "38 31\n",
      "28 19\n",
      "27 14\n",
      "37 29\n",
      "331 284\n",
      "198 190\n",
      "559 480\n",
      "201 171\n",
      "171 151\n",
      "121 113\n",
      "250 204\n",
      "1379 1180\n",
      "56 46\n",
      "516 443\n",
      "1320 1185\n",
      "360 311\n",
      "145 139\n",
      "130 116\n"
     ]
    }
   ],
   "source": [
    "for i, v in enumerate(X_train_vect):\n",
    "    print(len(X_train.iloc[i]), len(v))"
   ]
  },
  {
   "cell_type": "code",
   "execution_count": 182,
   "id": "0a1d7aa1",
   "metadata": {
    "scrolled": true
   },
   "outputs": [],
   "source": [
    "X_train_vect_avg = []\n",
    "for v in X_train_vect:\n",
    "    if v.size:\n",
    "        X_train_vect_avg.append(v.mean(axis=0))\n",
    "    else:\n",
    "        X_train_vect_avg.append(np.zeros(100, dtype=float))\n",
    "        \n",
    "X_test_vect_avg = []\n",
    "for v in X_test_vect:\n",
    "    if v.size:\n",
    "        X_test_vect_avg.append(v.mean(axis=0))\n",
    "    else:\n",
    "        X_test_vect_avg.append(np.zeros(100, dtype=float))"
   ]
  },
  {
   "cell_type": "code",
   "execution_count": 183,
   "id": "cd237445",
   "metadata": {},
   "outputs": [
    {
     "name": "stdout",
     "output_type": "stream",
     "text": [
      "69 200\n",
      "474 200\n",
      "75 200\n",
      "100 200\n",
      "832 200\n",
      "312 200\n",
      "18 200\n",
      "324 200\n",
      "217 200\n",
      "284 200\n",
      "278 200\n",
      "67 200\n",
      "2209 200\n",
      "168 200\n",
      "97 200\n",
      "126 200\n",
      "210 200\n",
      "1445 200\n",
      "82 200\n",
      "108 200\n",
      "342 200\n",
      "132 200\n",
      "12 200\n",
      "45 200\n",
      "73 200\n",
      "618 200\n",
      "184 200\n",
      "28 200\n",
      "115 200\n",
      "96 200\n",
      "60 200\n",
      "78 200\n",
      "61 200\n",
      "52 200\n",
      "105 200\n",
      "126 200\n",
      "35 200\n",
      "226 200\n",
      "218 200\n",
      "44 200\n",
      "106 200\n",
      "471 200\n",
      "500 200\n",
      "382 200\n",
      "133 200\n",
      "78 200\n",
      "21 200\n",
      "171 200\n",
      "62 200\n",
      "64 200\n",
      "262 200\n",
      "72 200\n",
      "252 200\n",
      "131 200\n",
      "159 200\n",
      "78 200\n",
      "35 200\n",
      "309 200\n",
      "103 200\n",
      "52 200\n",
      "56 200\n",
      "141 200\n",
      "74 200\n",
      "120 200\n",
      "61 200\n",
      "80 200\n",
      "257 200\n",
      "335 200\n",
      "182 200\n",
      "45 200\n",
      "168 200\n",
      "28 200\n",
      "168 200\n",
      "199 200\n",
      "55 200\n",
      "267 200\n",
      "451 200\n",
      "82 200\n",
      "50 200\n",
      "199 200\n",
      "9 200\n",
      "136 200\n",
      "1118 200\n",
      "2064 200\n",
      "27 200\n",
      "193 200\n",
      "34 200\n",
      "41 200\n",
      "156 200\n",
      "182 200\n",
      "138 200\n",
      "137 200\n",
      "80 200\n",
      "83 200\n",
      "2644 200\n",
      "119 200\n",
      "223 200\n",
      "1143 200\n",
      "99 200\n",
      "53 200\n",
      "85 200\n",
      "346 200\n",
      "206 200\n",
      "215 200\n",
      "163 200\n",
      "56 200\n",
      "402 200\n",
      "326 200\n",
      "82 200\n",
      "84 200\n",
      "80 200\n",
      "180 200\n",
      "78 200\n",
      "64 200\n",
      "611 200\n",
      "175 200\n",
      "145 200\n",
      "641 200\n",
      "137 200\n",
      "106 200\n",
      "307 200\n",
      "194 200\n",
      "73 200\n",
      "40 200\n",
      "148 200\n",
      "86 200\n",
      "278 200\n",
      "100 200\n",
      "34 200\n",
      "130 200\n",
      "59 200\n",
      "61 200\n",
      "67 200\n",
      "61 200\n",
      "399 200\n",
      "296 200\n",
      "37 200\n",
      "278 200\n",
      "157 200\n",
      "11 200\n",
      "27 200\n",
      "308 200\n",
      "355 200\n",
      "458 200\n",
      "182 200\n",
      "167 200\n",
      "459 200\n",
      "235 200\n",
      "272 200\n",
      "137 200\n",
      "76 200\n",
      "61 200\n",
      "140 200\n",
      "86 200\n",
      "810 200\n",
      "196 200\n",
      "94 200\n",
      "29 200\n",
      "127 200\n",
      "179 200\n",
      "235 200\n",
      "37 200\n",
      "32 200\n",
      "72 200\n",
      "476 200\n",
      "78 200\n",
      "57 200\n",
      "196 200\n",
      "170 200\n",
      "180 200\n",
      "80 200\n",
      "83 200\n",
      "282 200\n",
      "781 200\n",
      "262 200\n",
      "198 200\n",
      "295 200\n",
      "1336 200\n",
      "108 200\n",
      "387 200\n",
      "275 200\n",
      "586 200\n",
      "493 200\n",
      "105 200\n",
      "88 200\n",
      "182 200\n",
      "129 200\n",
      "61 200\n",
      "84 200\n",
      "149 200\n",
      "107 200\n",
      "80 200\n",
      "83 200\n",
      "32 200\n",
      "67 200\n",
      "976 200\n",
      "31 200\n",
      "81 200\n",
      "354 200\n",
      "62 200\n",
      "243 200\n",
      "37 200\n",
      "169 200\n",
      "800 200\n",
      "106 200\n",
      "193 200\n",
      "216 200\n",
      "56 200\n",
      "216 200\n",
      "206 200\n",
      "110 200\n",
      "203 200\n",
      "27 200\n",
      "45 200\n",
      "80 200\n",
      "103 200\n",
      "322 200\n",
      "160 200\n",
      "78 200\n",
      "208 200\n",
      "161 200\n",
      "360 200\n",
      "1181 200\n",
      "41 200\n",
      "106 200\n",
      "134 200\n",
      "87 200\n",
      "59 200\n",
      "24 200\n",
      "19 200\n",
      "129 200\n",
      "63 200\n",
      "67 200\n",
      "87 200\n",
      "257 200\n",
      "270 200\n",
      "182 200\n",
      "331 200\n",
      "47 200\n",
      "108 200\n",
      "139 200\n",
      "89 200\n",
      "78 200\n",
      "164 200\n",
      "104 200\n",
      "1341 200\n",
      "346 200\n",
      "261 200\n",
      "69 200\n",
      "245 200\n",
      "102 200\n",
      "314 200\n",
      "95 200\n",
      "158 200\n",
      "67 200\n",
      "64 200\n",
      "59 200\n",
      "481 200\n",
      "28 200\n",
      "12 200\n",
      "141 200\n",
      "246 200\n",
      "100 200\n",
      "56 200\n",
      "182 200\n",
      "125 200\n",
      "46 200\n",
      "84 200\n",
      "64 200\n",
      "446 200\n",
      "17 200\n",
      "71 200\n",
      "189 200\n",
      "80 200\n",
      "78 200\n",
      "81 200\n",
      "209 200\n",
      "13 200\n",
      "78 200\n",
      "254 200\n",
      "81 200\n",
      "116 200\n",
      "361 200\n",
      "106 200\n",
      "82 200\n",
      "258 200\n",
      "113 200\n",
      "27 200\n",
      "80 200\n",
      "433 200\n",
      "211 200\n",
      "352 200\n",
      "107 200\n",
      "153 200\n",
      "58 200\n",
      "244 200\n",
      "2632 200\n",
      "191 200\n",
      "156 200\n",
      "55 200\n",
      "1262 200\n",
      "179 200\n",
      "323 200\n",
      "160 200\n",
      "210 200\n",
      "1396 200\n",
      "119 200\n",
      "182 200\n",
      "33 200\n",
      "390 200\n",
      "189 200\n",
      "273 200\n",
      "457 200\n",
      "74 200\n",
      "42 200\n",
      "1071 200\n",
      "169 200\n",
      "422 200\n",
      "62 200\n",
      "147 200\n",
      "59 200\n",
      "498 200\n",
      "62 200\n",
      "2690 200\n",
      "73 200\n",
      "58 200\n",
      "76 200\n",
      "101 200\n",
      "106 200\n",
      "35 200\n",
      "141 200\n",
      "291 200\n",
      "628 200\n",
      "42 200\n",
      "38 200\n",
      "38 200\n",
      "100 200\n",
      "110 200\n",
      "158 200\n",
      "144 200\n",
      "56 200\n",
      "121 200\n",
      "38 200\n",
      "28 200\n",
      "27 200\n",
      "37 200\n",
      "331 200\n",
      "198 200\n",
      "559 200\n",
      "201 200\n",
      "171 200\n",
      "121 200\n",
      "250 200\n",
      "1379 200\n",
      "56 200\n",
      "516 200\n",
      "1320 200\n",
      "360 200\n",
      "145 200\n",
      "130 200\n"
     ]
    }
   ],
   "source": [
    "for i, v in enumerate(X_train_vect_avg):\n",
    "    print(len(X_train.iloc[i]), len(v))"
   ]
  },
  {
   "cell_type": "code",
   "execution_count": null,
   "id": "1afcc2b1",
   "metadata": {},
   "outputs": [],
   "source": []
  },
  {
   "cell_type": "code",
   "execution_count": 184,
   "id": "a00530f5",
   "metadata": {},
   "outputs": [],
   "source": [
    "from sklearn.ensemble import RandomForestClassifier\n",
    "rf = RandomForestClassifier()\n",
    "rf_model = rf.fit(X_train_vect_avg, y_train.values.ravel())"
   ]
  },
  {
   "cell_type": "code",
   "execution_count": 185,
   "id": "ed67dc11",
   "metadata": {},
   "outputs": [],
   "source": [
    "y_pred = rf_model.predict(X_test_vect_avg)"
   ]
  },
  {
   "cell_type": "code",
   "execution_count": 186,
   "id": "07785ac1",
   "metadata": {},
   "outputs": [
    {
     "name": "stdout",
     "output_type": "stream",
     "text": [
      "Precision: 1.0 / Recall: 0.822 / Accuracy: 0.911\n"
     ]
    }
   ],
   "source": [
    "from sklearn.metrics import precision_score, recall_score\n",
    "precision = precision_score(y_test, y_pred)\n",
    "recall = recall_score(y_test, y_pred)\n",
    "print('Precision: {} / Recall: {} / Accuracy: {}'.format(\n",
    "    round(precision, 3), round(recall, 3), round((y_pred==y_test).sum()/len(y_pred), 3)))"
   ]
  },
  {
   "cell_type": "markdown",
   "id": "b5e05f24",
   "metadata": {},
   "source": [
    "-------------------------------------------------------------------"
   ]
  },
  {
   "cell_type": "markdown",
   "id": "b0427a07",
   "metadata": {},
   "source": [
    "# MLP"
   ]
  },
  {
   "cell_type": "code",
   "execution_count": 62,
   "id": "fadd0afb",
   "metadata": {},
   "outputs": [],
   "source": [
    "from tensorflow.keras.models import Sequential\n",
    "from tensorflow.keras.layers import Dense\n",
    "from tensorflow.keras import regularizers"
   ]
  },
  {
   "cell_type": "code",
   "execution_count": 63,
   "id": "fc5f0d09",
   "metadata": {},
   "outputs": [],
   "source": [
    "# X_train.shape[1]\n",
    "# x_train_transformed[1]"
   ]
  },
  {
   "cell_type": "code",
   "execution_count": 64,
   "id": "88c539ca",
   "metadata": {},
   "outputs": [],
   "source": [
    "model = Sequential()\n",
    "model.add(Dense(input_dim=X_train.shape[1], units=100, kernel_regularizer= regularizers.L1(l1=1e-5), activation='relu')) \n",
    "model.add(Dense(units=64, activation='relu'))\n",
    "model.add(Dense(units=128, activation='relu'))\n",
    "model.add(Dense(units=1, activation='sigmoid'))"
   ]
  },
  {
   "cell_type": "code",
   "execution_count": 65,
   "id": "9e80c9f6",
   "metadata": {},
   "outputs": [
    {
     "name": "stdout",
     "output_type": "stream",
     "text": [
      "Model: \"sequential\"\n",
      "_________________________________________________________________\n",
      " Layer (type)                Output Shape              Param #   \n",
      "=================================================================\n",
      " dense (Dense)               (None, 100)               1126800   \n",
      "                                                                 \n",
      " dense_1 (Dense)             (None, 64)                6464      \n",
      "                                                                 \n",
      " dense_2 (Dense)             (None, 128)               8320      \n",
      "                                                                 \n",
      " dense_3 (Dense)             (None, 1)                 129       \n",
      "                                                                 \n",
      "=================================================================\n",
      "Total params: 1,141,713\n",
      "Trainable params: 1,141,713\n",
      "Non-trainable params: 0\n",
      "_________________________________________________________________\n"
     ]
    }
   ],
   "source": [
    "model.summary()"
   ]
  },
  {
   "cell_type": "code",
   "execution_count": 66,
   "id": "789d56d8",
   "metadata": {},
   "outputs": [],
   "source": [
    "model.compile(optimizer='adam', loss='binary_crossentropy', metrics=['accuracy'])"
   ]
  },
  {
   "cell_type": "code",
   "execution_count": 67,
   "id": "cd81f937",
   "metadata": {},
   "outputs": [
    {
     "name": "stdout",
     "output_type": "stream",
     "text": [
      "Epoch 1/40\n",
      "5/5 [==============================] - 3s 172ms/step - loss: 0.8100 - accuracy: 0.5799 - val_loss: 0.7812 - val_accuracy: 0.9412\n",
      "Epoch 2/40\n",
      "5/5 [==============================] - 0s 62ms/step - loss: 0.7591 - accuracy: 0.9963 - val_loss: 0.7294 - val_accuracy: 0.9706\n",
      "Epoch 3/40\n",
      "5/5 [==============================] - 0s 70ms/step - loss: 0.6871 - accuracy: 0.9963 - val_loss: 0.6583 - val_accuracy: 0.9853\n",
      "Epoch 4/40\n",
      "5/5 [==============================] - 0s 60ms/step - loss: 0.5793 - accuracy: 1.0000 - val_loss: 0.5584 - val_accuracy: 0.9853\n",
      "Epoch 5/40\n",
      "5/5 [==============================] - 0s 61ms/step - loss: 0.4340 - accuracy: 1.0000 - val_loss: 0.4359 - val_accuracy: 1.0000\n",
      "Epoch 6/40\n",
      "5/5 [==============================] - 0s 61ms/step - loss: 0.2763 - accuracy: 1.0000 - val_loss: 0.3142 - val_accuracy: 1.0000\n",
      "Epoch 7/40\n",
      "5/5 [==============================] - 0s 56ms/step - loss: 0.1529 - accuracy: 1.0000 - val_loss: 0.2207 - val_accuracy: 1.0000\n",
      "Epoch 8/40\n",
      "5/5 [==============================] - 0s 58ms/step - loss: 0.0882 - accuracy: 1.0000 - val_loss: 0.1654 - val_accuracy: 1.0000\n",
      "Epoch 9/40\n",
      "5/5 [==============================] - 0s 62ms/step - loss: 0.0633 - accuracy: 1.0000 - val_loss: 0.1337 - val_accuracy: 1.0000\n",
      "Epoch 10/40\n",
      "5/5 [==============================] - 0s 52ms/step - loss: 0.0540 - accuracy: 1.0000 - val_loss: 0.1161 - val_accuracy: 0.9853\n",
      "Epoch 11/40\n",
      "5/5 [==============================] - 0s 67ms/step - loss: 0.0492 - accuracy: 1.0000 - val_loss: 0.1057 - val_accuracy: 0.9853\n",
      "Epoch 12/40\n",
      "5/5 [==============================] - 0s 58ms/step - loss: 0.0454 - accuracy: 1.0000 - val_loss: 0.0992 - val_accuracy: 0.9853\n",
      "Epoch 13/40\n",
      "5/5 [==============================] - 0s 59ms/step - loss: 0.0422 - accuracy: 1.0000 - val_loss: 0.0946 - val_accuracy: 0.9853\n",
      "Epoch 14/40\n",
      "5/5 [==============================] - 0s 57ms/step - loss: 0.0393 - accuracy: 1.0000 - val_loss: 0.0913 - val_accuracy: 0.9853\n",
      "Epoch 15/40\n",
      "5/5 [==============================] - 0s 73ms/step - loss: 0.0367 - accuracy: 1.0000 - val_loss: 0.0890 - val_accuracy: 0.9853\n",
      "Epoch 16/40\n",
      "5/5 [==============================] - 0s 61ms/step - loss: 0.0344 - accuracy: 1.0000 - val_loss: 0.0871 - val_accuracy: 0.9853\n",
      "Epoch 17/40\n",
      "5/5 [==============================] - 0s 60ms/step - loss: 0.0323 - accuracy: 1.0000 - val_loss: 0.0857 - val_accuracy: 0.9853\n",
      "Epoch 18/40\n",
      "5/5 [==============================] - 0s 59ms/step - loss: 0.0305 - accuracy: 1.0000 - val_loss: 0.0843 - val_accuracy: 0.9853\n",
      "Epoch 19/40\n",
      "5/5 [==============================] - 0s 67ms/step - loss: 0.0288 - accuracy: 1.0000 - val_loss: 0.0829 - val_accuracy: 0.9853\n",
      "Epoch 20/40\n",
      "5/5 [==============================] - 0s 62ms/step - loss: 0.0273 - accuracy: 1.0000 - val_loss: 0.0812 - val_accuracy: 0.9853\n",
      "Epoch 21/40\n",
      "5/5 [==============================] - 0s 58ms/step - loss: 0.0260 - accuracy: 1.0000 - val_loss: 0.0801 - val_accuracy: 0.9853\n",
      "Epoch 22/40\n",
      "5/5 [==============================] - 0s 56ms/step - loss: 0.0247 - accuracy: 1.0000 - val_loss: 0.0791 - val_accuracy: 0.9853\n",
      "Epoch 23/40\n",
      "5/5 [==============================] - 0s 56ms/step - loss: 0.0236 - accuracy: 1.0000 - val_loss: 0.0781 - val_accuracy: 0.9853\n",
      "Epoch 24/40\n",
      "5/5 [==============================] - 0s 60ms/step - loss: 0.0225 - accuracy: 1.0000 - val_loss: 0.0773 - val_accuracy: 0.9853\n",
      "Epoch 25/40\n",
      "5/5 [==============================] - 0s 65ms/step - loss: 0.0216 - accuracy: 1.0000 - val_loss: 0.0769 - val_accuracy: 0.9853\n",
      "Epoch 26/40\n",
      "5/5 [==============================] - 0s 58ms/step - loss: 0.0207 - accuracy: 1.0000 - val_loss: 0.0762 - val_accuracy: 0.9853\n",
      "Epoch 27/40\n",
      "5/5 [==============================] - 0s 58ms/step - loss: 0.0199 - accuracy: 1.0000 - val_loss: 0.0755 - val_accuracy: 0.9853\n",
      "Epoch 28/40\n",
      "5/5 [==============================] - 0s 58ms/step - loss: 0.0191 - accuracy: 1.0000 - val_loss: 0.0740 - val_accuracy: 0.9853\n",
      "Epoch 29/40\n",
      "5/5 [==============================] - 0s 58ms/step - loss: 0.0184 - accuracy: 1.0000 - val_loss: 0.0729 - val_accuracy: 0.9853\n",
      "Epoch 30/40\n",
      "5/5 [==============================] - 0s 63ms/step - loss: 0.0178 - accuracy: 1.0000 - val_loss: 0.0725 - val_accuracy: 0.9853\n",
      "Epoch 31/40\n",
      "5/5 [==============================] - 0s 58ms/step - loss: 0.0171 - accuracy: 1.0000 - val_loss: 0.0728 - val_accuracy: 0.9853\n",
      "Epoch 32/40\n",
      "5/5 [==============================] - 0s 58ms/step - loss: 0.0165 - accuracy: 1.0000 - val_loss: 0.0720 - val_accuracy: 0.9853\n",
      "Epoch 33/40\n",
      "5/5 [==============================] - 0s 58ms/step - loss: 0.0159 - accuracy: 1.0000 - val_loss: 0.0715 - val_accuracy: 0.9853\n",
      "Epoch 34/40\n",
      "5/5 [==============================] - 0s 59ms/step - loss: 0.0153 - accuracy: 1.0000 - val_loss: 0.0711 - val_accuracy: 0.9853\n",
      "Epoch 35/40\n",
      "5/5 [==============================] - 0s 58ms/step - loss: 0.0148 - accuracy: 1.0000 - val_loss: 0.0705 - val_accuracy: 0.9853\n",
      "Epoch 36/40\n",
      "5/5 [==============================] - 0s 57ms/step - loss: 0.0143 - accuracy: 1.0000 - val_loss: 0.0722 - val_accuracy: 0.9853\n",
      "Epoch 37/40\n",
      "5/5 [==============================] - 0s 59ms/step - loss: 0.0139 - accuracy: 1.0000 - val_loss: 0.0730 - val_accuracy: 0.9853\n",
      "Epoch 38/40\n",
      "5/5 [==============================] - 0s 59ms/step - loss: 0.0134 - accuracy: 1.0000 - val_loss: 0.0724 - val_accuracy: 0.9853\n",
      "Epoch 39/40\n",
      "5/5 [==============================] - 0s 56ms/step - loss: 0.0130 - accuracy: 1.0000 - val_loss: 0.0711 - val_accuracy: 0.9853\n",
      "Epoch 40/40\n",
      "5/5 [==============================] - 0s 55ms/step - loss: 0.0126 - accuracy: 1.0000 - val_loss: 0.0704 - val_accuracy: 0.9853\n"
     ]
    }
   ],
   "source": [
    "history = model.fit(X_train, y_train, batch_size=64, epochs=40, verbose=1, validation_split=0.2)"
   ]
  },
  {
   "cell_type": "code",
   "execution_count": 68,
   "id": "128b6688",
   "metadata": {},
   "outputs": [],
   "source": [
    "from matplotlib import pyplot as plt"
   ]
  },
  {
   "cell_type": "code",
   "execution_count": 69,
   "id": "2326846e",
   "metadata": {},
   "outputs": [
    {
     "data": {
      "text/plain": [
       "Text(0.5, 1.0, 'loss')"
      ]
     },
     "execution_count": 69,
     "metadata": {},
     "output_type": "execute_result"
    },
    {
     "data": {
      "image/png": "[encoded data removed]",
      "text/plain": [
       "<Figure size 432x288 with 1 Axes>"
      ]
     },
     "metadata": {
      "needs_background": "light"
     },
     "output_type": "display_data"
    }
   ],
   "source": [
    "epochs = history.epoch\n",
    "plt.plot(epochs, history.history['loss']) # blue\n",
    "plt.plot(epochs, history.history['val_loss']) #orange\n",
    "plt.title('loss')"
   ]
  },
  {
   "cell_type": "code",
   "execution_count": 70,
   "id": "b6dfdf76",
   "metadata": {},
   "outputs": [
    {
     "data": {
      "text/plain": [
       "Text(0.5, 1.0, 'accuracy')"
      ]
     },
     "execution_count": 70,
     "metadata": {},
     "output_type": "execute_result"
    },
    {
     "data": {
      "image/png": "[encoded data removed]",
      "text/plain": [
       "<Figure size 432x288 with 1 Axes>"
      ]
     },
     "metadata": {
      "needs_background": "light"
     },
     "output_type": "display_data"
    }
   ],
   "source": [
    "plt.plot(epochs, history.history['accuracy']) #blue\n",
    "plt.plot(epochs, history.history['val_accuracy']) #orange\n",
    "plt.title('accuracy')"
   ]
  },
  {
   "cell_type": "code",
   "execution_count": 71,
   "id": "a3a3a03a",
   "metadata": {},
   "outputs": [
    {
     "name": "stdout",
     "output_type": "stream",
     "text": [
      "2/2 [==============================] - 0s 15ms/step - loss: 0.1023 - accuracy: 0.9558\n"
     ]
    },
    {
     "data": {
      "text/plain": [
       "[0.10226817429065704, 0.9557521939277649]"
      ]
     },
     "execution_count": 71,
     "metadata": {},
     "output_type": "execute_result"
    }
   ],
   "source": [
    "model.evaluate(X_test, y_test, batch_size=64)"
   ]
  },
  {
   "cell_type": "markdown",
   "id": "7e6dcff9",
   "metadata": {},
   "source": [
    "----------------------------------------------------"
   ]
  },
  {
   "cell_type": "markdown",
   "id": "150c5b5e",
   "metadata": {},
   "source": [
    "# METRICS"
   ]
  },
  {
   "cell_type": "code",
   "execution_count": 72,
   "id": "c793a8c7",
   "metadata": {},
   "outputs": [],
   "source": [
    "from sklearn.metrics import classification_report, confusion_matrix, precision_score"
   ]
  },
  {
   "cell_type": "code",
   "execution_count": 73,
   "id": "1c8b789d",
   "metadata": {},
   "outputs": [
    {
     "name": "stdout",
     "output_type": "stream",
     "text": [
      "4/4 [==============================] - 0s 8ms/step\n"
     ]
    },
    {
     "data": {
      "text/plain": [
       "array([[54,  3],\n",
       "       [ 2, 54]], dtype=int64)"
      ]
     },
     "execution_count": 73,
     "metadata": {},
     "output_type": "execute_result"
    }
   ],
   "source": [
    "y_pred = model.predict(X_test)\n",
    "\n",
    "y_pred_new = [int(not(i<0.5)) for i in y_pred]\n",
    "y_test_new = y_test.to_numpy().tolist()\n",
    "\n",
    "\n",
    "confusion_matrix(y_test_new, y_pred_new)"
   ]
  },
  {
   "cell_type": "code",
   "execution_count": 74,
   "id": "fb9a4908",
   "metadata": {},
   "outputs": [
    {
     "data": {
      "text/plain": [
       "'              precision    recall  f1-score   support\\n\\n           0       0.96      0.95      0.96        57\\n           1       0.95      0.96      0.96        56\\n\\n    accuracy                           0.96       113\\n   macro avg       0.96      0.96      0.96       113\\nweighted avg       0.96      0.96      0.96       113\\n'"
      ]
     },
     "execution_count": 74,
     "metadata": {},
     "output_type": "execute_result"
    }
   ],
   "source": [
    "classification_report(y_test_new, y_pred_new)"
   ]
  },
  {
   "cell_type": "code",
   "execution_count": 75,
   "id": "e78474b9",
   "metadata": {},
   "outputs": [
    {
     "data": {
      "text/plain": [
       "0.9473684210526315"
      ]
     },
     "execution_count": 75,
     "metadata": {},
     "output_type": "execute_result"
    }
   ],
   "source": [
    "precision_score(y_test_new, y_pred_new)"
   ]
  },
  {
   "cell_type": "code",
   "execution_count": null,
   "id": "bfa0a045",
   "metadata": {},
   "outputs": [],
   "source": []
  }
 ],
 "metadata": {
  "kernelspec": {
   "display_name": "Python 3 (ipykernel)",
   "language": "python",
   "name": "python3"
  },
  "language_info": {
   "codemirror_mode": {
    "name": "ipython",
    "version": 3
   },
   "file_extension": ".py",
   "mimetype": "text/x-python",
   "name": "python",
   "nbconvert_exporter": "python",
   "pygments_lexer": "ipython3",
   "version": "3.9.10"
  }
 },
 "nbformat": 4,
 "nbformat_minor": 5
}
